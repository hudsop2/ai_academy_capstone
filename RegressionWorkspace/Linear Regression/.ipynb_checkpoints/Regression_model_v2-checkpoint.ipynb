{
 "cells": [
  {
   "cell_type": "markdown",
   "metadata": {},
   "source": [
    "# Part 1: Import necesarry libraries"
   ]
  },
  {
   "cell_type": "code",
   "execution_count": 1,
   "metadata": {},
   "outputs": [],
   "source": [
    "import pandas as pd\n",
    "from sklearn.model_selection import train_test_split\n",
    "from sklearn.preprocessing import OneHotEncoder, StandardScaler\n",
    "import statsmodels.api as sm\n",
    "from sklearn.metrics import mean_absolute_error, mean_squared_error\n",
    "from math import sqrt\n",
    "from sklearn.linear_model import LinearRegression"
   ]
  },
  {
   "cell_type": "markdown",
   "metadata": {},
   "source": [
    "# Part 2: Load the dataset"
   ]
  },
  {
   "cell_type": "code",
   "execution_count": 2,
   "metadata": {},
   "outputs": [
    {
     "data": {
      "text/html": [
       "<div>\n",
       "<style scoped>\n",
       "    .dataframe tbody tr th:only-of-type {\n",
       "        vertical-align: middle;\n",
       "    }\n",
       "\n",
       "    .dataframe tbody tr th {\n",
       "        vertical-align: top;\n",
       "    }\n",
       "\n",
       "    .dataframe thead th {\n",
       "        text-align: right;\n",
       "    }\n",
       "</style>\n",
       "<table border=\"1\" class=\"dataframe\">\n",
       "  <thead>\n",
       "    <tr style=\"text-align: right;\">\n",
       "      <th></th>\n",
       "      <th>month_released</th>\n",
       "      <th>rated</th>\n",
       "      <th>genre</th>\n",
       "      <th>runtime_minutes</th>\n",
       "      <th>belongs_to_collection</th>\n",
       "      <th>production_budget_usd</th>\n",
       "      <th>domestic_gross_usd</th>\n",
       "      <th>worldwide_gross_usd</th>\n",
       "      <th>imdb_score</th>\n",
       "      <th>dir_acted</th>\n",
       "      <th>...</th>\n",
       "      <th>dir_special_effects</th>\n",
       "      <th>dir_stunts</th>\n",
       "      <th>dir_visual_effects</th>\n",
       "      <th>dir_writer</th>\n",
       "      <th>non_dom_gross_usd</th>\n",
       "      <th>title_length</th>\n",
       "      <th>worldwide_roi</th>\n",
       "      <th>domestic_roi</th>\n",
       "      <th>non_dom_roi</th>\n",
       "      <th>success_level_ww</th>\n",
       "    </tr>\n",
       "  </thead>\n",
       "  <tbody>\n",
       "    <tr>\n",
       "      <th>0</th>\n",
       "      <td>5</td>\n",
       "      <td>R</td>\n",
       "      <td>Drama</td>\n",
       "      <td>146.0</td>\n",
       "      <td>0</td>\n",
       "      <td>19000000</td>\n",
       "      <td>44568631</td>\n",
       "      <td>45613093</td>\n",
       "      <td>8.4</td>\n",
       "      <td>0</td>\n",
       "      <td>...</td>\n",
       "      <td>0</td>\n",
       "      <td>0</td>\n",
       "      <td>0</td>\n",
       "      <td>1</td>\n",
       "      <td>1044462</td>\n",
       "      <td>11</td>\n",
       "      <td>1.400689</td>\n",
       "      <td>1.345717</td>\n",
       "      <td>-0.945028</td>\n",
       "      <td>2</td>\n",
       "    </tr>\n",
       "    <tr>\n",
       "      <th>1</th>\n",
       "      <td>6</td>\n",
       "      <td>R</td>\n",
       "      <td>Adventure</td>\n",
       "      <td>104.0</td>\n",
       "      <td>1</td>\n",
       "      <td>4500000</td>\n",
       "      <td>47923795</td>\n",
       "      <td>47923795</td>\n",
       "      <td>5.8</td>\n",
       "      <td>1</td>\n",
       "      <td>...</td>\n",
       "      <td>0</td>\n",
       "      <td>0</td>\n",
       "      <td>0</td>\n",
       "      <td>1</td>\n",
       "      <td>0</td>\n",
       "      <td>15</td>\n",
       "      <td>9.649732</td>\n",
       "      <td>9.649732</td>\n",
       "      <td>-1.000000</td>\n",
       "      <td>2</td>\n",
       "    </tr>\n",
       "    <tr>\n",
       "      <th>2</th>\n",
       "      <td>7</td>\n",
       "      <td>PG</td>\n",
       "      <td>Comedy</td>\n",
       "      <td>88.0</td>\n",
       "      <td>1</td>\n",
       "      <td>3500000</td>\n",
       "      <td>83453539</td>\n",
       "      <td>83453539</td>\n",
       "      <td>7.7</td>\n",
       "      <td>0</td>\n",
       "      <td>...</td>\n",
       "      <td>0</td>\n",
       "      <td>0</td>\n",
       "      <td>0</td>\n",
       "      <td>0</td>\n",
       "      <td>0</td>\n",
       "      <td>9</td>\n",
       "      <td>22.843868</td>\n",
       "      <td>22.843868</td>\n",
       "      <td>-1.000000</td>\n",
       "      <td>2</td>\n",
       "    </tr>\n",
       "    <tr>\n",
       "      <th>3</th>\n",
       "      <td>7</td>\n",
       "      <td>R</td>\n",
       "      <td>Comedy</td>\n",
       "      <td>98.0</td>\n",
       "      <td>1</td>\n",
       "      <td>6000000</td>\n",
       "      <td>39846344</td>\n",
       "      <td>39849764</td>\n",
       "      <td>7.3</td>\n",
       "      <td>1</td>\n",
       "      <td>...</td>\n",
       "      <td>0</td>\n",
       "      <td>0</td>\n",
       "      <td>0</td>\n",
       "      <td>1</td>\n",
       "      <td>3420</td>\n",
       "      <td>10</td>\n",
       "      <td>5.641627</td>\n",
       "      <td>5.641057</td>\n",
       "      <td>-0.999430</td>\n",
       "      <td>2</td>\n",
       "    </tr>\n",
       "    <tr>\n",
       "      <th>4</th>\n",
       "      <td>5</td>\n",
       "      <td>R</td>\n",
       "      <td>Horror</td>\n",
       "      <td>95.0</td>\n",
       "      <td>1</td>\n",
       "      <td>550000</td>\n",
       "      <td>39754601</td>\n",
       "      <td>59754601</td>\n",
       "      <td>6.4</td>\n",
       "      <td>0</td>\n",
       "      <td>...</td>\n",
       "      <td>0</td>\n",
       "      <td>0</td>\n",
       "      <td>0</td>\n",
       "      <td>1</td>\n",
       "      <td>20000000</td>\n",
       "      <td>15</td>\n",
       "      <td>107.644729</td>\n",
       "      <td>71.281093</td>\n",
       "      <td>35.363636</td>\n",
       "      <td>2</td>\n",
       "    </tr>\n",
       "  </tbody>\n",
       "</table>\n",
       "<p>5 rows × 42 columns</p>\n",
       "</div>"
      ],
      "text/plain": [
       "   month_released rated      genre  runtime_minutes  belongs_to_collection  \\\n",
       "0               5     R      Drama            146.0                      0   \n",
       "1               6     R  Adventure            104.0                      1   \n",
       "2               7    PG     Comedy             88.0                      1   \n",
       "3               7     R     Comedy             98.0                      1   \n",
       "4               5     R     Horror             95.0                      1   \n",
       "\n",
       "   production_budget_usd  domestic_gross_usd  worldwide_gross_usd  imdb_score  \\\n",
       "0               19000000            44568631             45613093         8.4   \n",
       "1                4500000            47923795             47923795         5.8   \n",
       "2                3500000            83453539             83453539         7.7   \n",
       "3                6000000            39846344             39849764         7.3   \n",
       "4                 550000            39754601             59754601         6.4   \n",
       "\n",
       "   dir_acted  ...  dir_special_effects  dir_stunts  dir_visual_effects  \\\n",
       "0          0  ...                    0           0                   0   \n",
       "1          1  ...                    0           0                   0   \n",
       "2          0  ...                    0           0                   0   \n",
       "3          1  ...                    0           0                   0   \n",
       "4          0  ...                    0           0                   0   \n",
       "\n",
       "   dir_writer  non_dom_gross_usd  title_length  worldwide_roi  domestic_roi  \\\n",
       "0           1            1044462            11       1.400689      1.345717   \n",
       "1           1                  0            15       9.649732      9.649732   \n",
       "2           0                  0             9      22.843868     22.843868   \n",
       "3           1               3420            10       5.641627      5.641057   \n",
       "4           1           20000000            15     107.644729     71.281093   \n",
       "\n",
       "   non_dom_roi  success_level_ww  \n",
       "0    -0.945028                 2  \n",
       "1    -1.000000                 2  \n",
       "2    -1.000000                 2  \n",
       "3    -0.999430                 2  \n",
       "4    35.363636                 2  \n",
       "\n",
       "[5 rows x 42 columns]"
      ]
     },
     "execution_count": 2,
     "metadata": {},
     "output_type": "execute_result"
    }
   ],
   "source": [
    "df = pd.read_csv('movies_modeling.csv')\n",
    "df.head()"
   ]
  },
  {
   "cell_type": "markdown",
   "metadata": {},
   "source": [
    "From the rated column replace **G**, **Not Rated**, **Unrated**, **NC-17**, and **TV-MA** into another category called **Other**"
   ]
  },
  {
   "cell_type": "code",
   "execution_count": 3,
   "metadata": {},
   "outputs": [],
   "source": [
    "to_replace = [\"G\", \"Not Rated\",\"Unrated\", \"NC-17\", \"TV-MA\"]\n",
    "df[[\"rated\"]] = df[[\"rated\"]].replace(to_replace,\"Other\")"
   ]
  },
  {
   "cell_type": "markdown",
   "metadata": {},
   "source": [
    "From the genre column replace **Fantasy**, **Mistery**, **Thriller**, **Family**, **Sci-Fi**, and **Romance** into another category called **Other**"
   ]
  },
  {
   "cell_type": "code",
   "execution_count": 4,
   "metadata": {},
   "outputs": [],
   "source": [
    "to_replace_genre = [\"Fantasy\", \"Mystery\",\"Family\", \"Sci-Fi\", \"Thriller\", \"Romance\"]\n",
    "df[[\"genre\"]] = df[[\"genre\"]].replace(to_replace_genre,\"Other\")"
   ]
  },
  {
   "cell_type": "markdown",
   "metadata": {},
   "source": [
    "Drop helping columns"
   ]
  },
  {
   "cell_type": "code",
   "execution_count": 5,
   "metadata": {},
   "outputs": [],
   "source": [
    "# Drop revenue-related and roi-related columns\n",
    "to_drop_columns = [\"imdb_score\",\"domestic_gross_usd\", \"non_dom_gross_usd\", \"worldwide_roi\", \"domestic_roi\", \n",
    "                   \"non_dom_roi\", \"success_level_ww\"]\n",
    "new_df = df.drop(to_drop_columns, axis = 1)"
   ]
  },
  {
   "cell_type": "markdown",
   "metadata": {},
   "source": [
    "# Part 3: Split the data"
   ]
  },
  {
   "cell_type": "code",
   "execution_count": 6,
   "metadata": {},
   "outputs": [],
   "source": [
    "X = new_df.drop('worldwide_gross_usd', axis=1)\n",
    "y = new_df['worldwide_gross_usd']\n",
    "\n",
    "# Split 70/30 with a random state of 37 to ensure reproductibility\n",
    "X_train, X_test, y_train, y_test = train_test_split(X, y, test_size=0.3, random_state=37)"
   ]
  },
  {
   "cell_type": "code",
   "execution_count": 7,
   "metadata": {},
   "outputs": [],
   "source": [
    "X_train.reset_index(drop = True, inplace = True)\n",
    "X_test.reset_index(drop = True, inplace = True)\n",
    "y_train.reset_index(drop = True, inplace = True)\n",
    "y_test.reset_index(drop = True, inplace = True)"
   ]
  },
  {
   "cell_type": "markdown",
   "metadata": {},
   "source": [
    "# Part 4: Perform one hot encoding on 'rating' and 'genre'"
   ]
  },
  {
   "cell_type": "code",
   "execution_count": 8,
   "metadata": {},
   "outputs": [],
   "source": [
    "# OneHotEncode the rating train data\n",
    "\n",
    "# Start the OneHotEncoder\n",
    "ohe = OneHotEncoder(sparse=False)\n",
    "\n",
    "# Make a copy of the dataset to avoid any data leakage and maintain integrity.\n",
    "movie_rating = X_train[['rated']].copy() \n",
    "\n",
    "# Fit the Encoder to the data frame\n",
    "ohe.fit(movie_rating)  \n",
    "\n",
    "# Convert the results to a data frame and make the column names have the rating they are representing.\n",
    "movie_rating_ohe = pd.DataFrame(\n",
    "     data=ohe.transform(movie_rating),\n",
    "     columns=[f\"rating_{rating}\" for rating in ohe.categories_[0]])"
   ]
  },
  {
   "cell_type": "code",
   "execution_count": 9,
   "metadata": {},
   "outputs": [],
   "source": [
    "# OneHotEncode the genre train data\n",
    "\n",
    "# Initializing the Encoder\n",
    "ohe = OneHotEncoder(sparse=False)\n",
    "\n",
    "# Make a copy of the dataset to avoid any data leakage and maintain integrity.\n",
    "movie_genre = X_train[['genre']].copy() \n",
    "\n",
    "# Fit the encoder to the dataframe\n",
    "ohe.fit(movie_genre)  \n",
    "\n",
    "# Convert the results to a data frame and make the column names have the genres they are representing.\n",
    "movie_genre_ohe = pd.DataFrame(\n",
    "     data=ohe.transform(movie_genre),\n",
    "     columns=[f\"genre_{genre}\" for genre in ohe.categories_[0]])"
   ]
  },
  {
   "cell_type": "code",
   "execution_count": 10,
   "metadata": {},
   "outputs": [],
   "source": [
    "X_train_ohe = pd.concat([X_train, movie_rating_ohe, movie_genre_ohe], axis=1)\n",
    "X_train_ohe.drop(['rated', 'genre'], axis=1, inplace=True)"
   ]
  },
  {
   "cell_type": "code",
   "execution_count": 11,
   "metadata": {},
   "outputs": [],
   "source": [
    "# OneHotEncode the rating test data\n",
    "\n",
    "# Start the OneHotEncoder\n",
    "ohe = OneHotEncoder(sparse=False)\n",
    "\n",
    "# Make a copy of the dataset to avoid any data leakage and maintain integrity.\n",
    "movie_rating = X_test[['rated']].copy() \n",
    "\n",
    "# Fit the Encoder to the data frame\n",
    "ohe.fit(movie_rating)  \n",
    "\n",
    "# Convert the results to a data frame and make the column names have the rating they are representing.\n",
    "movie_rating_ohe = pd.DataFrame(\n",
    "     data=ohe.transform(movie_rating),\n",
    "     columns=[f\"rating_{rating}\" for rating in ohe.categories_[0]])"
   ]
  },
  {
   "cell_type": "code",
   "execution_count": 12,
   "metadata": {},
   "outputs": [],
   "source": [
    "# OneHotEncode the genre test data\n",
    "\n",
    "# Initializing the Encoder\n",
    "ohe = OneHotEncoder(sparse=False)\n",
    "\n",
    "# Make a copy of the dataset to avoid any data leakage and maintain integrity.\n",
    "movie_genre = X_test[['genre']].copy() \n",
    "\n",
    "# Fit the encoder to the dataframe\n",
    "ohe.fit(movie_genre)  \n",
    "\n",
    "# Convert the results to a data frame and make the column names have the genres they are representing.\n",
    "movie_genre_ohe = pd.DataFrame(\n",
    "     data=ohe.transform(movie_genre),\n",
    "     columns=[f\"genre_{genre}\" for genre in ohe.categories_[0]])"
   ]
  },
  {
   "cell_type": "code",
   "execution_count": 13,
   "metadata": {},
   "outputs": [],
   "source": [
    "X_test_ohe = pd.concat([X_test, movie_rating_ohe, movie_genre_ohe], axis=1)\n",
    "X_test_ohe.drop(['rated', 'genre'], axis=1, inplace=True)"
   ]
  },
  {
   "cell_type": "markdown",
   "metadata": {},
   "source": [
    "# Part 5: Scale the features"
   ]
  },
  {
   "cell_type": "code",
   "execution_count": 14,
   "metadata": {},
   "outputs": [],
   "source": [
    "scaler = StandardScaler()\n",
    "\n",
    "X_train_scaled = scaler.fit_transform(X_train_ohe)\n",
    "X_test_scaled = scaler.transform(X_test_ohe)"
   ]
  },
  {
   "cell_type": "code",
   "execution_count": 15,
   "metadata": {},
   "outputs": [],
   "source": [
    "X_train_scaled = pd.DataFrame(X_train_scaled, columns=X_train_ohe.columns, index=X_train_ohe.index)\n",
    "X_test_scaled = pd.DataFrame(X_test_scaled, columns=X_test_ohe.columns, index=X_test_ohe.index)"
   ]
  },
  {
   "cell_type": "markdown",
   "metadata": {},
   "source": [
    "# Part 6: Build and fit the model"
   ]
  },
  {
   "cell_type": "code",
   "execution_count": 16,
   "metadata": {},
   "outputs": [
    {
     "name": "stdout",
     "output_type": "stream",
     "text": [
      "                             OLS Regression Results                            \n",
      "===============================================================================\n",
      "Dep. Variable:     worldwide_gross_usd   R-squared:                       0.573\n",
      "Model:                             OLS   Adj. R-squared:                  0.565\n",
      "Method:                  Least Squares   F-statistic:                     70.41\n",
      "Date:                 Tue, 07 May 2024   Prob (F-statistic):               0.00\n",
      "Time:                         16:57:31   Log-Likelihood:                -42928.\n",
      "No. Observations:                 2136   AIC:                         8.594e+04\n",
      "Df Residuals:                     2095   BIC:                         8.617e+04\n",
      "Df Model:                           40                                         \n",
      "Covariance Type:             nonrobust                                         \n",
      "===========================================================================================\n",
      "                              coef    std err          t      P>|t|      [0.025      0.975]\n",
      "-------------------------------------------------------------------------------------------\n",
      "const                    1.278e+08   2.83e+06     45.220      0.000    1.22e+08    1.33e+08\n",
      "month_released           6.406e+04   2.97e+06      0.022      0.983   -5.76e+06    5.89e+06\n",
      "runtime_minutes           2.61e+07   3.54e+06      7.366      0.000    1.92e+07     3.3e+07\n",
      "belongs_to_collection    4.899e+07   3.16e+06     15.505      0.000    4.28e+07    5.52e+07\n",
      "production_budget_usd    1.199e+08   3.79e+06     31.634      0.000    1.12e+08    1.27e+08\n",
      "dir_acted               -5.736e+06    3.2e+06     -1.795      0.073    -1.2e+07    5.32e+05\n",
      "dir_animation_dept      -1.131e+07   3.13e+06     -3.614      0.000   -1.74e+07   -5.17e+06\n",
      "dir_art_dept            -1.917e+06      3e+06     -0.640      0.522   -7.79e+06    3.96e+06\n",
      "dir_art_dir              1.435e+06   2.87e+06      0.500      0.617   -4.19e+06    7.06e+06\n",
      "dir_assistant_dir       -2.977e+06   3.12e+06     -0.954      0.340    -9.1e+06    3.14e+06\n",
      "dir_camera_dept          -1.36e+06      3e+06     -0.453      0.651   -7.25e+06    4.53e+06\n",
      "dir_casting_dept         2.494e-08   2.17e-09     11.489      0.000    2.07e-08    2.92e-08\n",
      "dir_casting_dir          5.098e-09   1.99e-09      2.560      0.011    1.19e-09       9e-09\n",
      "dir_cinematographer     -3.995e+06   3.02e+06     -1.322      0.186   -9.92e+06    1.93e+06\n",
      "dir_composer             8.135e+05   2.91e+06      0.280      0.780   -4.89e+06    6.52e+06\n",
      "dir_costume_designer     1.764e+05   2.85e+06      0.062      0.951    -5.4e+06    5.76e+06\n",
      "dir_editor               2.096e+06   3.04e+06      0.689      0.491   -3.87e+06    8.06e+06\n",
      "dir_editorial_dept      -1.825e+06   2.95e+06     -0.619      0.536   -7.61e+06    3.96e+06\n",
      "dir_location_management -2.001e-09   1.67e-09     -1.197      0.231   -5.28e-09    1.28e-09\n",
      "dir_makeup_dept          -6.35e+05   4.53e+06     -0.140      0.889   -9.52e+06    8.25e+06\n",
      "dir_music_artist        -3.497e+05   2.96e+06     -0.118      0.906   -6.16e+06    5.46e+06\n",
      "dir_music_dept          -8.477e+05   2.86e+06     -0.296      0.767   -6.47e+06    4.77e+06\n",
      "dir_producer            -3.037e+06   3.33e+06     -0.911      0.362   -9.57e+06     3.5e+06\n",
      "dir_production_designer -3.779e+06   2.91e+06     -1.298      0.195   -9.49e+06    1.93e+06\n",
      "dir_production_manager  -8.128e+05   2.86e+06     -0.285      0.776   -6.42e+06    4.79e+06\n",
      "dir_script_dept         -3.691e+05   2.85e+06     -0.129      0.897   -5.96e+06    5.22e+06\n",
      "dir_sound_dept          -1.778e+06   2.89e+06     -0.615      0.539   -7.44e+06    3.89e+06\n",
      "dir_soundtrack          -2.606e+06   3.07e+06     -0.848      0.397   -8.64e+06    3.42e+06\n",
      "dir_special_effects      4.422e+05   4.49e+06      0.098      0.922   -8.37e+06    9.25e+06\n",
      "dir_stunts                 1.8e+06   2.95e+06      0.610      0.542   -3.98e+06    7.58e+06\n",
      "dir_visual_effects      -7.236e+05   2.97e+06     -0.243      0.808   -6.55e+06    5.11e+06\n",
      "dir_writer               2.814e+05   3.25e+06      0.087      0.931    -6.1e+06    6.66e+06\n",
      "title_length            -1.076e+06   2.96e+06     -0.363      0.717   -6.89e+06    4.73e+06\n",
      "rating_Other            -9.631e+05   2.99e+06     -0.322      0.748   -6.83e+06     4.9e+06\n",
      "rating_PG               -2.034e+06   2.57e+06     -0.792      0.428   -7.07e+06       3e+06\n",
      "rating_PG-13             4.779e+06      2e+06      2.391      0.017     8.6e+05     8.7e+06\n",
      "rating_R                -2.882e+06   1.96e+06     -1.468      0.142   -6.73e+06    9.68e+05\n",
      "genre_Action            -1.469e+07    2.4e+06     -6.116      0.000   -1.94e+07   -9.98e+06\n",
      "genre_Adventure         -1.013e+06   2.77e+06     -0.366      0.714   -6.44e+06    4.41e+06\n",
      "genre_Animation          2.269e+07   3.68e+06      6.160      0.000    1.55e+07    2.99e+07\n",
      "genre_Biography          -2.88e+06    2.8e+06     -1.029      0.304   -8.37e+06    2.61e+06\n",
      "genre_Comedy              5.33e+06   2.33e+06      2.284      0.022    7.54e+05    9.91e+06\n",
      "genre_Crime             -1.776e+06   2.72e+06     -0.653      0.514   -7.11e+06    3.56e+06\n",
      "genre_Drama              6.262e+05   2.61e+06      0.240      0.810   -4.48e+06    5.74e+06\n",
      "genre_Horror            -1.792e+06   2.83e+06     -0.632      0.527   -7.35e+06    3.77e+06\n",
      "genre_Other              6.509e+06   2.81e+06      2.320      0.020    1.01e+06     1.2e+07\n",
      "==============================================================================\n",
      "Omnibus:                     2063.416   Durbin-Watson:                   2.016\n",
      "Prob(Omnibus):                  0.000   Jarque-Bera (JB):           230798.374\n",
      "Skew:                           4.256   Prob(JB):                         0.00\n",
      "Kurtosis:                      53.207   Cond. No.                     1.95e+16\n",
      "==============================================================================\n",
      "\n",
      "Notes:\n",
      "[1] Standard Errors assume that the covariance matrix of the errors is correctly specified.\n",
      "[2] The smallest eigenvalue is 1.42e-29. This might indicate that there are\n",
      "strong multicollinearity problems or that the design matrix is singular.\n"
     ]
    }
   ],
   "source": [
    "model = sm.OLS(y_train, sm.add_constant(X_train_scaled))\n",
    "results = model.fit()\n",
    "print(results.summary())"
   ]
  },
  {
   "cell_type": "code",
   "execution_count": 17,
   "metadata": {},
   "outputs": [
    {
     "data": {
      "text/plain": [
       "LinearRegression()"
      ]
     },
     "execution_count": 17,
     "metadata": {},
     "output_type": "execute_result"
    }
   ],
   "source": [
    "model_sci = LinearRegression()\n",
    "model_sci.fit(X_train_scaled, y_train)"
   ]
  },
  {
   "cell_type": "code",
   "execution_count": 18,
   "metadata": {},
   "outputs": [],
   "source": [
    "y_pred = model_sci.predict(X_test_scaled)"
   ]
  },
  {
   "cell_type": "code",
   "execution_count": 20,
   "metadata": {},
   "outputs": [
    {
     "name": "stdout",
     "output_type": "stream",
     "text": [
      "mean_squared_error :  8.171963438604023e+32\n",
      "mean_absolute_error :  944531657730003.1\n"
     ]
    }
   ],
   "source": [
    "print('mean_squared_error : ', mean_squared_error(y_test, y_pred))\n",
    "print('mean_absolute_error : ', mean_absolute_error(y_test, y_pred))"
   ]
  },
  {
   "cell_type": "code",
   "execution_count": null,
   "metadata": {},
   "outputs": [],
   "source": []
  }
 ],
 "metadata": {
  "kernelspec": {
   "display_name": "Python (learn-env)",
   "language": "python",
   "name": "learn-env"
  },
  "language_info": {
   "codemirror_mode": {
    "name": "ipython",
    "version": 3
   },
   "file_extension": ".py",
   "mimetype": "text/x-python",
   "name": "python",
   "nbconvert_exporter": "python",
   "pygments_lexer": "ipython3",
   "version": "3.8.5"
  }
 },
 "nbformat": 4,
 "nbformat_minor": 4
}
