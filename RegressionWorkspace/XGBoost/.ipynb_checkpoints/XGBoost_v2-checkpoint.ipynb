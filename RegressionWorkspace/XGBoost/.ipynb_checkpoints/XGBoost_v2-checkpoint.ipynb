{
 "cells": [
  {
   "cell_type": "markdown",
   "metadata": {},
   "source": [
    "Using GridSearchCV to tune the hyperparameters"
   ]
  },
  {
   "cell_type": "markdown",
   "metadata": {},
   "source": [
    "# Part 1: Import libraries"
   ]
  },
  {
   "cell_type": "code",
   "execution_count": 9,
   "metadata": {},
   "outputs": [],
   "source": [
    "import pandas as pd\n",
    "from sklearn.model_selection import train_test_split, GridSearchCV\n",
    "from sklearn.preprocessing import OneHotEncoder, StandardScaler\n",
    "from sklearn.metrics import mean_absolute_error, mean_squared_error, r2_score\n",
    "import xgboost as xgb\n",
    "import numpy as np\n"
   ]
  },
  {
   "cell_type": "markdown",
   "metadata": {},
   "source": [
    "# Part 2: Load the dataset"
   ]
  },
  {
   "cell_type": "code",
   "execution_count": null,
   "metadata": {},
   "outputs": [],
   "source": [
    "df = pd.read_csv('movies_modeling.csv')\n",
    "df.head()"
   ]
  },
  {
   "cell_type": "markdown",
   "metadata": {},
   "source": [
    "From the rated column replace **G**, **Not Rated**, **Unrated**, **NC-17**, and **TV-MA** into another category called **Other**"
   ]
  },
  {
   "cell_type": "code",
   "execution_count": null,
   "metadata": {},
   "outputs": [],
   "source": [
    "to_replace = [\"G\", \"Not Rated\",\"Unrated\", \"NC-17\", \"TV-MA\"]\n",
    "df[[\"rated\"]] = df[[\"rated\"]].replace(to_replace,\"Other\")"
   ]
  },
  {
   "cell_type": "markdown",
   "metadata": {},
   "source": [
    "From the genre column replace **Fantasy**, **Mistery**, **Thriller**, **Family**, **Sci-Fi**, and **Romance** into another category called **Other**"
   ]
  },
  {
   "cell_type": "code",
   "execution_count": null,
   "metadata": {},
   "outputs": [],
   "source": [
    "to_replace_genre = [\"Fantasy\", \"Mystery\",\"Family\", \"Sci-Fi\", \"Thriller\", \"Romance\"]\n",
    "df[[\"genre\"]] = df[[\"genre\"]].replace(to_replace_genre,\"Other\")"
   ]
  },
  {
   "cell_type": "markdown",
   "metadata": {},
   "source": [
    "Drop helping columns"
   ]
  },
  {
   "cell_type": "code",
   "execution_count": null,
   "metadata": {},
   "outputs": [],
   "source": [
    "# Drop revenue-related and roi-related columns\n",
    "to_drop_columns = [\"imdb_score\",\"domestic_gross_usd\", \"non_dom_gross_usd\", \"worldwide_roi\", \"domestic_roi\", \n",
    "                   \"non_dom_roi\", \"success_level_ww\"]\n",
    "new_df = df.drop(to_drop_columns, axis = 1)"
   ]
  },
  {
   "cell_type": "markdown",
   "metadata": {},
   "source": [
    "# Part 3: Split the data"
   ]
  },
  {
   "cell_type": "code",
   "execution_count": null,
   "metadata": {},
   "outputs": [],
   "source": [
    "X = new_df.drop('worldwide_gross_usd', axis=1)\n",
    "y = new_df['worldwide_gross_usd']\n",
    "\n",
    "# Split 70/30 with a random state of 37 to ensure reproductibility\n",
    "X_train, X_test, y_train, y_test = train_test_split(X, y, test_size=0.3, random_state=37)"
   ]
  },
  {
   "cell_type": "code",
   "execution_count": null,
   "metadata": {},
   "outputs": [],
   "source": [
    "X_train.reset_index(drop = True, inplace = True)\n",
    "X_test.reset_index(drop = True, inplace = True)\n",
    "y_train.reset_index(drop = True, inplace = True)\n",
    "y_test.reset_index(drop = True, inplace = True)"
   ]
  },
  {
   "cell_type": "markdown",
   "metadata": {},
   "source": [
    "# Part 4: One Hot Encoding "
   ]
  },
  {
   "cell_type": "code",
   "execution_count": null,
   "metadata": {},
   "outputs": [],
   "source": [
    "# OneHotEncode the rating train data\n",
    "\n",
    "# Start the OneHotEncoder\n",
    "ohe = OneHotEncoder(sparse=False)\n",
    "\n",
    "# Make a copy of the dataset to avoid any data leakage and maintain integrity.\n",
    "movie_rating = X_train[['rated']].copy() \n",
    "\n",
    "# Fit the Encoder to the data frame\n",
    "ohe.fit(movie_rating)  \n",
    "\n",
    "# Convert the results to a data frame and make the column names have the rating they are representing.\n",
    "movie_rating_ohe = pd.DataFrame(\n",
    "     data=ohe.transform(movie_rating),\n",
    "     columns=[f\"rating_{rating}\" for rating in ohe.categories_[0]])"
   ]
  },
  {
   "cell_type": "code",
   "execution_count": null,
   "metadata": {},
   "outputs": [],
   "source": [
    "# OneHotEncode the genre train data\n",
    "\n",
    "# Initializing the Encoder\n",
    "ohe = OneHotEncoder(sparse=False)\n",
    "\n",
    "# Make a copy of the dataset to avoid any data leakage and maintain integrity.\n",
    "movie_genre = X_train[['genre']].copy() \n",
    "\n",
    "# Fit the encoder to the dataframe\n",
    "ohe.fit(movie_genre)  \n",
    "\n",
    "# Convert the results to a data frame and make the column names have the genres they are representing.\n",
    "movie_genre_ohe = pd.DataFrame(\n",
    "     data=ohe.transform(movie_genre),\n",
    "     columns=[f\"genre_{genre}\" for genre in ohe.categories_[0]])"
   ]
  },
  {
   "cell_type": "code",
   "execution_count": null,
   "metadata": {},
   "outputs": [],
   "source": [
    "X_train_ohe = pd.concat([X_train, movie_rating_ohe, movie_genre_ohe], axis=1)\n",
    "X_train_ohe.drop(['rated', 'genre'], axis=1, inplace=True)"
   ]
  },
  {
   "cell_type": "code",
   "execution_count": null,
   "metadata": {},
   "outputs": [],
   "source": [
    "# OneHotEncode the rating test data\n",
    "\n",
    "# Start the OneHotEncoder\n",
    "ohe = OneHotEncoder(sparse=False)\n",
    "\n",
    "# Make a copy of the dataset to avoid any data leakage and maintain integrity.\n",
    "movie_rating = X_test[['rated']].copy() \n",
    "\n",
    "# Fit the Encoder to the data frame\n",
    "ohe.fit(movie_rating)  \n",
    "\n",
    "# Convert the results to a data frame and make the column names have the rating they are representing.\n",
    "movie_rating_ohe = pd.DataFrame(\n",
    "     data=ohe.transform(movie_rating),\n",
    "     columns=[f\"rating_{rating}\" for rating in ohe.categories_[0]])"
   ]
  },
  {
   "cell_type": "code",
   "execution_count": null,
   "metadata": {},
   "outputs": [],
   "source": [
    "# OneHotEncode the genre test data\n",
    "\n",
    "# Initializing the Encoder\n",
    "ohe = OneHotEncoder(sparse=False)\n",
    "\n",
    "# Make a copy of the dataset to avoid any data leakage and maintain integrity.\n",
    "movie_genre = X_test[['genre']].copy() \n",
    "\n",
    "# Fit the encoder to the dataframe\n",
    "ohe.fit(movie_genre)  \n",
    "\n",
    "# Convert the results to a data frame and make the column names have the genres they are representing.\n",
    "movie_genre_ohe = pd.DataFrame(\n",
    "     data=ohe.transform(movie_genre),\n",
    "     columns=[f\"genre_{genre}\" for genre in ohe.categories_[0]])"
   ]
  },
  {
   "cell_type": "code",
   "execution_count": null,
   "metadata": {},
   "outputs": [],
   "source": [
    "X_test_ohe = pd.concat([X_test, movie_rating_ohe, movie_genre_ohe], axis=1)\n",
    "X_test_ohe.drop(['rated', 'genre'], axis=1, inplace=True)"
   ]
  },
  {
   "cell_type": "markdown",
   "metadata": {},
   "source": [
    "# Part 5: Scale the features"
   ]
  },
  {
   "cell_type": "code",
   "execution_count": null,
   "metadata": {},
   "outputs": [],
   "source": [
    "scaler = StandardScaler()\n",
    "\n",
    "X_train_scaled = scaler.fit_transform(X_train_ohe)\n",
    "X_test_scaled = scaler.transform(X_test_ohe)"
   ]
  },
  {
   "cell_type": "code",
   "execution_count": null,
   "metadata": {},
   "outputs": [],
   "source": [
    "X_train_scaled = pd.DataFrame(X_train_scaled, columns=X_train_ohe.columns, index=X_train_ohe.index)\n",
    "X_test_scaled = pd.DataFrame(X_test_scaled, columns=X_test_ohe.columns, index=X_test_ohe.index)"
   ]
  },
  {
   "cell_type": "markdown",
   "metadata": {},
   "source": [
    "# Part 6: Build and fit the model"
   ]
  },
  {
   "cell_type": "code",
   "execution_count": null,
   "metadata": {},
   "outputs": [],
   "source": [
    "# Define the parameter grid\n",
    "param_grid = {\n",
    "    'colsample_bytree': [0.3, 0.7],\n",
    "    'learning_rate': [0.01, 0.1, 0.2],\n",
    "    'max_depth': [4, 5, 6],\n",
    "    'alpha': [5, 10, 15],\n",
    "    'n_estimators': [5, 10, 20]\n",
    "}"
   ]
  },
  {
   "cell_type": "code",
   "execution_count": null,
   "metadata": {},
   "outputs": [],
   "source": [
    "# Instantiate the grid search model\n",
    "grid_search = GridSearchCV(estimator=xgb.XGBRegressor(objective='reg:squarederror'),\n",
    "                          param_grid = param_grid,\n",
    "                          cv = 3, n_jobs=-1, verbose=2)"
   ]
  },
  {
   "cell_type": "code",
   "execution_count": null,
   "metadata": {},
   "outputs": [],
   "source": [
    "grid_search.fit(X_train_scaled, y_train)"
   ]
  },
  {
   "cell_type": "code",
   "execution_count": null,
   "metadata": {},
   "outputs": [],
   "source": [
    "print(grid_search.best_params_)"
   ]
  },
  {
   "cell_type": "code",
   "execution_count": null,
   "metadata": {},
   "outputs": [],
   "source": [
    "# Instantiate the XGBRegressor with the best parameters\n",
    "xg_reg = xgb.XGBRegressor(objective='reg:squarederror', colsample_bytree=0.7, learning_rate=0.2, max_depth=5,\n",
    "                         alpha=15, n_estimators=20)"
   ]
  },
  {
   "cell_type": "code",
   "execution_count": null,
   "metadata": {},
   "outputs": [],
   "source": [
    "xg_reg.fit(X_train_scaled, y_train)"
   ]
  },
  {
   "cell_type": "code",
   "execution_count": null,
   "metadata": {},
   "outputs": [],
   "source": [
    "preds = xg_reg.predict(X_test_scaled)"
   ]
  },
  {
   "cell_type": "code",
   "execution_count": null,
   "metadata": {},
   "outputs": [],
   "source": [
    "rmse = np.sqrt(mean_squared_error(y_test, preds))\n",
    "print('RMSE: ', rmse)"
   ]
  },
  {
   "cell_type": "code",
   "execution_count": null,
   "metadata": {},
   "outputs": [],
   "source": [
    "print('R2: ', r2_score(y_test, preds))"
   ]
  },
  {
   "cell_type": "code",
   "execution_count": null,
   "metadata": {},
   "outputs": [],
   "source": [
    "range_target = y_test.max() - y_test.min()\n",
    "print(range_target)"
   ]
  },
  {
   "cell_type": "code",
   "execution_count": null,
   "metadata": {},
   "outputs": [],
   "source": []
  },
  {
   "cell_type": "code",
   "execution_count": null,
   "metadata": {},
   "outputs": [],
   "source": []
  }
 ],
 "metadata": {
  "kernelspec": {
   "display_name": "Python (learn-env)",
   "language": "python",
   "name": "learn-env"
  },
  "language_info": {
   "codemirror_mode": {
    "name": "ipython",
    "version": 3
   },
   "file_extension": ".py",
   "mimetype": "text/x-python",
   "name": "python",
   "nbconvert_exporter": "python",
   "pygments_lexer": "ipython3",
   "version": "3.8.5"
  }
 },
 "nbformat": 4,
 "nbformat_minor": 4
}
