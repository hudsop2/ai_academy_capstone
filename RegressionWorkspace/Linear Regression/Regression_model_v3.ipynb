{
 "cells": [
  {
   "cell_type": "markdown",
   "metadata": {},
   "source": [
    "### For this model I removed the features with a p-value > 2"
   ]
  },
  {
   "cell_type": "markdown",
   "metadata": {},
   "source": [
    "# Part 1: Import necesarry libraries"
   ]
  },
  {
   "cell_type": "code",
   "execution_count": 7,
   "metadata": {},
   "outputs": [],
   "source": [
    "import pandas as pd\n",
    "from sklearn.model_selection import train_test_split\n",
    "from sklearn.preprocessing import OneHotEncoder, StandardScaler\n",
    "import statsmodels.api as sm\n",
    "from sklearn.metrics import mean_absolute_error, mean_squared_error\n",
    "from math import sqrt\n",
    "from sklearn.linear_model import LinearRegression"
   ]
  },
  {
   "cell_type": "markdown",
   "metadata": {},
   "source": [
    "# Part 2: Load the dataset"
   ]
  },
  {
   "cell_type": "code",
   "execution_count": 8,
   "metadata": {},
   "outputs": [
    {
     "data": {
      "text/html": [
       "<div>\n",
       "<style scoped>\n",
       "    .dataframe tbody tr th:only-of-type {\n",
       "        vertical-align: middle;\n",
       "    }\n",
       "\n",
       "    .dataframe tbody tr th {\n",
       "        vertical-align: top;\n",
       "    }\n",
       "\n",
       "    .dataframe thead th {\n",
       "        text-align: right;\n",
       "    }\n",
       "</style>\n",
       "<table border=\"1\" class=\"dataframe\">\n",
       "  <thead>\n",
       "    <tr style=\"text-align: right;\">\n",
       "      <th></th>\n",
       "      <th>month_released</th>\n",
       "      <th>rated</th>\n",
       "      <th>genre</th>\n",
       "      <th>runtime_minutes</th>\n",
       "      <th>belongs_to_collection</th>\n",
       "      <th>production_budget_usd</th>\n",
       "      <th>domestic_gross_usd</th>\n",
       "      <th>worldwide_gross_usd</th>\n",
       "      <th>imdb_score</th>\n",
       "      <th>dir_acted</th>\n",
       "      <th>...</th>\n",
       "      <th>dir_special_effects</th>\n",
       "      <th>dir_stunts</th>\n",
       "      <th>dir_visual_effects</th>\n",
       "      <th>dir_writer</th>\n",
       "      <th>non_dom_gross_usd</th>\n",
       "      <th>title_length</th>\n",
       "      <th>worldwide_roi</th>\n",
       "      <th>domestic_roi</th>\n",
       "      <th>non_dom_roi</th>\n",
       "      <th>success_level_ww</th>\n",
       "    </tr>\n",
       "  </thead>\n",
       "  <tbody>\n",
       "    <tr>\n",
       "      <th>0</th>\n",
       "      <td>5</td>\n",
       "      <td>R</td>\n",
       "      <td>Drama</td>\n",
       "      <td>146.0</td>\n",
       "      <td>0</td>\n",
       "      <td>19000000</td>\n",
       "      <td>44568631</td>\n",
       "      <td>45613093</td>\n",
       "      <td>8.4</td>\n",
       "      <td>0</td>\n",
       "      <td>...</td>\n",
       "      <td>0</td>\n",
       "      <td>0</td>\n",
       "      <td>0</td>\n",
       "      <td>1</td>\n",
       "      <td>1044462</td>\n",
       "      <td>11</td>\n",
       "      <td>1.400689</td>\n",
       "      <td>1.345717</td>\n",
       "      <td>-0.945028</td>\n",
       "      <td>2</td>\n",
       "    </tr>\n",
       "    <tr>\n",
       "      <th>1</th>\n",
       "      <td>6</td>\n",
       "      <td>R</td>\n",
       "      <td>Adventure</td>\n",
       "      <td>104.0</td>\n",
       "      <td>1</td>\n",
       "      <td>4500000</td>\n",
       "      <td>47923795</td>\n",
       "      <td>47923795</td>\n",
       "      <td>5.8</td>\n",
       "      <td>1</td>\n",
       "      <td>...</td>\n",
       "      <td>0</td>\n",
       "      <td>0</td>\n",
       "      <td>0</td>\n",
       "      <td>1</td>\n",
       "      <td>0</td>\n",
       "      <td>15</td>\n",
       "      <td>9.649732</td>\n",
       "      <td>9.649732</td>\n",
       "      <td>-1.000000</td>\n",
       "      <td>2</td>\n",
       "    </tr>\n",
       "    <tr>\n",
       "      <th>2</th>\n",
       "      <td>7</td>\n",
       "      <td>PG</td>\n",
       "      <td>Comedy</td>\n",
       "      <td>88.0</td>\n",
       "      <td>1</td>\n",
       "      <td>3500000</td>\n",
       "      <td>83453539</td>\n",
       "      <td>83453539</td>\n",
       "      <td>7.7</td>\n",
       "      <td>0</td>\n",
       "      <td>...</td>\n",
       "      <td>0</td>\n",
       "      <td>0</td>\n",
       "      <td>0</td>\n",
       "      <td>0</td>\n",
       "      <td>0</td>\n",
       "      <td>9</td>\n",
       "      <td>22.843868</td>\n",
       "      <td>22.843868</td>\n",
       "      <td>-1.000000</td>\n",
       "      <td>2</td>\n",
       "    </tr>\n",
       "    <tr>\n",
       "      <th>3</th>\n",
       "      <td>7</td>\n",
       "      <td>R</td>\n",
       "      <td>Comedy</td>\n",
       "      <td>98.0</td>\n",
       "      <td>1</td>\n",
       "      <td>6000000</td>\n",
       "      <td>39846344</td>\n",
       "      <td>39849764</td>\n",
       "      <td>7.3</td>\n",
       "      <td>1</td>\n",
       "      <td>...</td>\n",
       "      <td>0</td>\n",
       "      <td>0</td>\n",
       "      <td>0</td>\n",
       "      <td>1</td>\n",
       "      <td>3420</td>\n",
       "      <td>10</td>\n",
       "      <td>5.641627</td>\n",
       "      <td>5.641057</td>\n",
       "      <td>-0.999430</td>\n",
       "      <td>2</td>\n",
       "    </tr>\n",
       "    <tr>\n",
       "      <th>4</th>\n",
       "      <td>5</td>\n",
       "      <td>R</td>\n",
       "      <td>Horror</td>\n",
       "      <td>95.0</td>\n",
       "      <td>1</td>\n",
       "      <td>550000</td>\n",
       "      <td>39754601</td>\n",
       "      <td>59754601</td>\n",
       "      <td>6.4</td>\n",
       "      <td>0</td>\n",
       "      <td>...</td>\n",
       "      <td>0</td>\n",
       "      <td>0</td>\n",
       "      <td>0</td>\n",
       "      <td>1</td>\n",
       "      <td>20000000</td>\n",
       "      <td>15</td>\n",
       "      <td>107.644729</td>\n",
       "      <td>71.281093</td>\n",
       "      <td>35.363636</td>\n",
       "      <td>2</td>\n",
       "    </tr>\n",
       "  </tbody>\n",
       "</table>\n",
       "<p>5 rows × 42 columns</p>\n",
       "</div>"
      ],
      "text/plain": [
       "   month_released rated      genre  runtime_minutes  belongs_to_collection  \\\n",
       "0               5     R      Drama            146.0                      0   \n",
       "1               6     R  Adventure            104.0                      1   \n",
       "2               7    PG     Comedy             88.0                      1   \n",
       "3               7     R     Comedy             98.0                      1   \n",
       "4               5     R     Horror             95.0                      1   \n",
       "\n",
       "   production_budget_usd  domestic_gross_usd  worldwide_gross_usd  imdb_score  \\\n",
       "0               19000000            44568631             45613093         8.4   \n",
       "1                4500000            47923795             47923795         5.8   \n",
       "2                3500000            83453539             83453539         7.7   \n",
       "3                6000000            39846344             39849764         7.3   \n",
       "4                 550000            39754601             59754601         6.4   \n",
       "\n",
       "   dir_acted  ...  dir_special_effects  dir_stunts  dir_visual_effects  \\\n",
       "0          0  ...                    0           0                   0   \n",
       "1          1  ...                    0           0                   0   \n",
       "2          0  ...                    0           0                   0   \n",
       "3          1  ...                    0           0                   0   \n",
       "4          0  ...                    0           0                   0   \n",
       "\n",
       "   dir_writer  non_dom_gross_usd  title_length  worldwide_roi  domestic_roi  \\\n",
       "0           1            1044462            11       1.400689      1.345717   \n",
       "1           1                  0            15       9.649732      9.649732   \n",
       "2           0                  0             9      22.843868     22.843868   \n",
       "3           1               3420            10       5.641627      5.641057   \n",
       "4           1           20000000            15     107.644729     71.281093   \n",
       "\n",
       "   non_dom_roi  success_level_ww  \n",
       "0    -0.945028                 2  \n",
       "1    -1.000000                 2  \n",
       "2    -1.000000                 2  \n",
       "3    -0.999430                 2  \n",
       "4    35.363636                 2  \n",
       "\n",
       "[5 rows x 42 columns]"
      ]
     },
     "execution_count": 8,
     "metadata": {},
     "output_type": "execute_result"
    }
   ],
   "source": [
    "df = pd.read_csv('movies_modeling.csv')\n",
    "df.head()"
   ]
  },
  {
   "cell_type": "markdown",
   "metadata": {},
   "source": [
    "From the rated column replace **G**, **Not Rated**, **Unrated**, **NC-17**, and **TV-MA** into another category called **Other**"
   ]
  },
  {
   "cell_type": "code",
   "execution_count": 9,
   "metadata": {},
   "outputs": [],
   "source": [
    "to_replace = [\"G\", \"Not Rated\",\"Unrated\", \"NC-17\", \"TV-MA\"]\n",
    "df[[\"rated\"]] = df[[\"rated\"]].replace(to_replace,\"Other\")"
   ]
  },
  {
   "cell_type": "markdown",
   "metadata": {},
   "source": [
    "From the genre column replace **Fantasy**, **Mistery**, **Thriller**, **Family**, **Sci-Fi**, and **Romance** into another category called **Other**"
   ]
  },
  {
   "cell_type": "code",
   "execution_count": 10,
   "metadata": {},
   "outputs": [],
   "source": [
    "to_replace_genre = [\"Fantasy\", \"Mystery\",\"Family\", \"Sci-Fi\", \"Thriller\", \"Romance\"]\n",
    "df[[\"genre\"]] = df[[\"genre\"]].replace(to_replace_genre,\"Other\")"
   ]
  },
  {
   "cell_type": "markdown",
   "metadata": {},
   "source": [
    "Drop helping columns"
   ]
  },
  {
   "cell_type": "code",
   "execution_count": 11,
   "metadata": {},
   "outputs": [],
   "source": [
    "# Drop revenue-related and roi-related columns\n",
    "to_drop_columns = [\"imdb_score\",\"domestic_gross_usd\", \"non_dom_gross_usd\", \"worldwide_roi\", \"domestic_roi\", \n",
    "                   \"non_dom_roi\", \"success_level_ww\"]\n",
    "new_df = df.drop(to_drop_columns, axis = 1)"
   ]
  },
  {
   "cell_type": "code",
   "execution_count": 12,
   "metadata": {},
   "outputs": [],
   "source": [
    "#Remove the features with that in the Regression_model_v2 have a p-value > 2\n",
    "to_drop_columns = ['month_released', 'dir_art_dept', 'dir_art_dir', 'dir_assistant_dir', 'dir_camera_dept',\n",
    "                  'dir_composer', 'dir_costume_designer', 'dir_editor', 'dir_editorial_dept', 'dir_location_management',\n",
    "                  'dir_makeup_dept', 'dir_music_artist', 'dir_music_dept', 'dir_producer', 'dir_production_manager',\n",
    "                  'dir_script_dept', 'dir_sound_dept', 'dir_soundtrack', 'dir_special_effects', 'dir_stunts', \n",
    "                   'dir_visual_effects', 'dir_writer', 'title_length']\n",
    "new_df = df.drop(to_drop_columns, axis = 1)"
   ]
  },
  {
   "cell_type": "markdown",
   "metadata": {},
   "source": [
    "# Part 3: Split the data"
   ]
  },
  {
   "cell_type": "code",
   "execution_count": 13,
   "metadata": {},
   "outputs": [],
   "source": [
    "X = new_df.drop('worldwide_gross_usd', axis=1)\n",
    "y = new_df['worldwide_gross_usd']\n",
    "\n",
    "# Split 70/30 with a random state of 37 to ensure reproductibility\n",
    "X_train, X_test, y_train, y_test = train_test_split(X, y, test_size=0.3, random_state=37)"
   ]
  },
  {
   "cell_type": "code",
   "execution_count": 14,
   "metadata": {},
   "outputs": [],
   "source": [
    "X_train.reset_index(drop = True, inplace = True)\n",
    "X_test.reset_index(drop = True, inplace = True)\n",
    "y_train.reset_index(drop = True, inplace = True)\n",
    "y_test.reset_index(drop = True, inplace = True)"
   ]
  },
  {
   "cell_type": "markdown",
   "metadata": {},
   "source": [
    "# Part 4: Perform one hot encoding on 'rating' and 'genre'"
   ]
  },
  {
   "cell_type": "code",
   "execution_count": 15,
   "metadata": {},
   "outputs": [],
   "source": [
    "# OneHotEncode the rating train data\n",
    "\n",
    "# Start the OneHotEncoder\n",
    "ohe = OneHotEncoder(sparse=False)\n",
    "\n",
    "# Make a copy of the dataset to avoid any data leakage and maintain integrity.\n",
    "movie_rating = X_train[['rated']].copy() \n",
    "\n",
    "# Fit the Encoder to the data frame\n",
    "ohe.fit(movie_rating)  \n",
    "\n",
    "# Convert the results to a data frame and make the column names have the rating they are representing.\n",
    "movie_rating_ohe = pd.DataFrame(\n",
    "     data=ohe.transform(movie_rating),\n",
    "     columns=[f\"rating_{rating}\" for rating in ohe.categories_[0]])"
   ]
  },
  {
   "cell_type": "code",
   "execution_count": 16,
   "metadata": {},
   "outputs": [],
   "source": [
    "# OneHotEncode the genre train data\n",
    "\n",
    "# Initializing the Encoder\n",
    "ohe = OneHotEncoder(sparse=False)\n",
    "\n",
    "# Make a copy of the dataset to avoid any data leakage and maintain integrity.\n",
    "movie_genre = X_train[['genre']].copy() \n",
    "\n",
    "# Fit the encoder to the dataframe\n",
    "ohe.fit(movie_genre)  \n",
    "\n",
    "# Convert the results to a data frame and make the column names have the genres they are representing.\n",
    "movie_genre_ohe = pd.DataFrame(\n",
    "     data=ohe.transform(movie_genre),\n",
    "     columns=[f\"genre_{genre}\" for genre in ohe.categories_[0]])"
   ]
  },
  {
   "cell_type": "code",
   "execution_count": 17,
   "metadata": {},
   "outputs": [],
   "source": [
    "X_train_ohe = pd.concat([X_train, movie_rating_ohe, movie_genre_ohe], axis=1)\n",
    "X_train_ohe.drop(['rated', 'genre'], axis=1, inplace=True)"
   ]
  },
  {
   "cell_type": "code",
   "execution_count": 18,
   "metadata": {},
   "outputs": [],
   "source": [
    "# OneHotEncode the rating test data\n",
    "\n",
    "# Start the OneHotEncoder\n",
    "ohe = OneHotEncoder(sparse=False)\n",
    "\n",
    "# Make a copy of the dataset to avoid any data leakage and maintain integrity.\n",
    "movie_rating = X_test[['rated']].copy() \n",
    "\n",
    "# Fit the Encoder to the data frame\n",
    "ohe.fit(movie_rating)  \n",
    "\n",
    "# Convert the results to a data frame and make the column names have the rating they are representing.\n",
    "movie_rating_ohe = pd.DataFrame(\n",
    "     data=ohe.transform(movie_rating),\n",
    "     columns=[f\"rating_{rating}\" for rating in ohe.categories_[0]])"
   ]
  },
  {
   "cell_type": "code",
   "execution_count": 19,
   "metadata": {},
   "outputs": [],
   "source": [
    "# OneHotEncode the genre test data\n",
    "\n",
    "# Initializing the Encoder\n",
    "ohe = OneHotEncoder(sparse=False)\n",
    "\n",
    "# Make a copy of the dataset to avoid any data leakage and maintain integrity.\n",
    "movie_genre = X_test[['genre']].copy() \n",
    "\n",
    "# Fit the encoder to the dataframe\n",
    "ohe.fit(movie_genre)  \n",
    "\n",
    "# Convert the results to a data frame and make the column names have the genres they are representing.\n",
    "movie_genre_ohe = pd.DataFrame(\n",
    "     data=ohe.transform(movie_genre),\n",
    "     columns=[f\"genre_{genre}\" for genre in ohe.categories_[0]])"
   ]
  },
  {
   "cell_type": "code",
   "execution_count": 20,
   "metadata": {},
   "outputs": [],
   "source": [
    "X_test_ohe = pd.concat([X_test, movie_rating_ohe, movie_genre_ohe], axis=1)\n",
    "X_test_ohe.drop(['rated', 'genre'], axis=1, inplace=True)"
   ]
  },
  {
   "cell_type": "markdown",
   "metadata": {},
   "source": [
    "# Part 5: Scale the features"
   ]
  },
  {
   "cell_type": "code",
   "execution_count": 21,
   "metadata": {},
   "outputs": [],
   "source": [
    "scaler = StandardScaler()\n",
    "\n",
    "X_train_scaled = scaler.fit_transform(X_train_ohe)\n",
    "X_test_scaled = scaler.transform(X_test_ohe)"
   ]
  },
  {
   "cell_type": "code",
   "execution_count": 22,
   "metadata": {},
   "outputs": [],
   "source": [
    "X_train_scaled = pd.DataFrame(X_train_scaled, columns=X_train_ohe.columns, index=X_train_ohe.index)\n",
    "X_test_scaled = pd.DataFrame(X_test_scaled, columns=X_test_ohe.columns, index=X_test_ohe.index)"
   ]
  },
  {
   "cell_type": "markdown",
   "metadata": {},
   "source": [
    "# Part 6: Build and fit the model"
   ]
  },
  {
   "cell_type": "code",
   "execution_count": 23,
   "metadata": {},
   "outputs": [
    {
     "name": "stdout",
     "output_type": "stream",
     "text": [
      "                             OLS Regression Results                            \n",
      "===============================================================================\n",
      "Dep. Variable:     worldwide_gross_usd   R-squared:                       1.000\n",
      "Model:                             OLS   Adj. R-squared:                  1.000\n",
      "Method:                  Least Squares   F-statistic:                 3.550e+31\n",
      "Date:                 Tue, 07 May 2024   Prob (F-statistic):               0.00\n",
      "Time:                         17:16:54   Log-Likelihood:                 28968.\n",
      "No. Observations:                 2136   AIC:                        -5.789e+04\n",
      "Df Residuals:                     2111   BIC:                        -5.774e+04\n",
      "Df Model:                           24                                         \n",
      "Covariance Type:             nonrobust                                         \n",
      "===========================================================================================\n",
      "                              coef    std err          t      P>|t|      [0.025      0.975]\n",
      "-------------------------------------------------------------------------------------------\n",
      "const                    1.278e+08   6.79e-09   1.88e+16      0.000    1.28e+08    1.28e+08\n",
      "runtime_minutes            4.4e-08   9.01e-09      4.883      0.000    2.63e-08    6.17e-08\n",
      "belongs_to_collection    4.587e-08   7.94e-09      5.777      0.000    3.03e-08    6.14e-08\n",
      "production_budget_usd   -2.608e-08   1.16e-08     -2.252      0.024   -4.88e-08   -3.37e-09\n",
      "domestic_gross_usd       7.358e+07   1.37e-08   5.37e+15      0.000    7.36e+07    7.36e+07\n",
      "imdb_score              -2.142e-08   8.46e-09     -2.532      0.011    -3.8e-08   -4.83e-09\n",
      "dir_acted                6.985e-10   6.95e-09      0.100      0.920   -1.29e-08    1.43e-08\n",
      "dir_animation_dept      -2.235e-08    7.3e-09     -3.061      0.002   -3.67e-08   -8.03e-09\n",
      "dir_casting_dept         4.585e-09   5.63e-24   8.14e+14      0.000    4.59e-09    4.59e-09\n",
      "dir_casting_dir          1.779e-08   3.74e-24   4.76e+15      0.000    1.78e-08    1.78e-08\n",
      "dir_cinematographer     -1.211e-08    6.9e-09     -1.755      0.079   -2.56e-08    1.42e-09\n",
      "dir_production_designer  9.313e-09   6.84e-09      1.362      0.173    -4.1e-09    2.27e-08\n",
      "non_dom_gross_usd        1.324e+08   1.43e-08   9.29e+15      0.000    1.32e+08    1.32e+08\n",
      "worldwide_roi             2.41e-08   2.88e-09      8.361      0.000    1.84e-08    2.98e-08\n",
      "domestic_roi            -6.054e-09      8e-09     -0.757      0.449   -2.17e-08    9.63e-09\n",
      "non_dom_roi              -5.96e-08   9.41e-09     -6.334      0.000   -7.81e-08   -4.12e-08\n",
      "success_level_ww        -2.375e-08   8.17e-09     -2.907      0.004   -3.98e-08   -7.73e-09\n",
      "rating_Other             -4.47e-08   7.17e-09     -6.235      0.000   -5.88e-08   -3.06e-08\n",
      "rating_PG               -2.841e-08   6.16e-09     -4.610      0.000   -4.05e-08   -1.63e-08\n",
      "rating_PG-13             7.916e-09   4.81e-09      1.647      0.100   -1.51e-09    1.73e-08\n",
      "rating_R                 4.913e-08   4.79e-09     10.258      0.000    3.97e-08    5.85e-08\n",
      "genre_Action            -8.428e-08    5.7e-09    -14.795      0.000   -9.55e-08   -7.31e-08\n",
      "genre_Adventure         -1.187e-08   6.58e-09     -1.806      0.071   -2.48e-08    1.02e-09\n",
      "genre_Animation         -1.024e-08   8.67e-09     -1.181      0.238   -2.73e-08    6.77e-09\n",
      "genre_Biography          1.327e-08   6.69e-09      1.983      0.047    1.49e-10    2.64e-08\n",
      "genre_Comedy            -1.164e-08   5.57e-09     -2.090      0.037   -2.26e-08   -7.18e-10\n",
      "genre_Crime              1.863e-08   6.52e-09      2.856      0.004    5.84e-09    3.14e-08\n",
      "genre_Drama             -5.425e-08    6.2e-09     -8.750      0.000   -6.64e-08   -4.21e-08\n",
      "genre_Horror            -4.633e-08   6.87e-09     -6.744      0.000   -5.98e-08   -3.29e-08\n",
      "genre_Other              4.657e-08   6.71e-09      6.940      0.000    3.34e-08    5.97e-08\n",
      "==============================================================================\n",
      "Omnibus:                     1198.703   Durbin-Watson:                   1.931\n",
      "Prob(Omnibus):                  0.000   Jarque-Bera (JB):            15643.730\n",
      "Skew:                           2.375   Prob(JB):                         0.00\n",
      "Kurtosis:                      15.378   Cond. No.                     1.60e+16\n",
      "==============================================================================\n",
      "\n",
      "Notes:\n",
      "[1] Standard Errors assume that the covariance matrix of the errors is correctly specified.\n",
      "[2] The smallest eigenvalue is 2.94e-29. This might indicate that there are\n",
      "strong multicollinearity problems or that the design matrix is singular.\n"
     ]
    }
   ],
   "source": [
    "model = sm.OLS(y_train, sm.add_constant(X_train_scaled))\n",
    "results = model.fit()\n",
    "print(results.summary())"
   ]
  },
  {
   "cell_type": "code",
   "execution_count": 24,
   "metadata": {},
   "outputs": [
    {
     "data": {
      "text/plain": [
       "LinearRegression()"
      ]
     },
     "execution_count": 24,
     "metadata": {},
     "output_type": "execute_result"
    }
   ],
   "source": [
    "model_sci = LinearRegression()\n",
    "model_sci.fit(X_train_scaled, y_train)"
   ]
  },
  {
   "cell_type": "code",
   "execution_count": 25,
   "metadata": {},
   "outputs": [],
   "source": [
    "y_pred = model_sci.predict(X_test_scaled)"
   ]
  },
  {
   "cell_type": "code",
   "execution_count": 26,
   "metadata": {},
   "outputs": [
    {
     "name": "stdout",
     "output_type": "stream",
     "text": [
      "mean_squared_error :  7.002659005790994e-14\n",
      "mean_absolute_error :  1.9851405027131325e-07\n"
     ]
    }
   ],
   "source": [
    "print('mean_squared_error : ', mean_squared_error(y_test, y_pred))\n",
    "print('mean_absolute_error : ', mean_absolute_error(y_test, y_pred))"
   ]
  },
  {
   "cell_type": "code",
   "execution_count": null,
   "metadata": {},
   "outputs": [],
   "source": []
  }
 ],
 "metadata": {
  "kernelspec": {
   "display_name": "Python (learn-env)",
   "language": "python",
   "name": "learn-env"
  },
  "language_info": {
   "codemirror_mode": {
    "name": "ipython",
    "version": 3
   },
   "file_extension": ".py",
   "mimetype": "text/x-python",
   "name": "python",
   "nbconvert_exporter": "python",
   "pygments_lexer": "ipython3",
   "version": "3.8.5"
  }
 },
 "nbformat": 4,
 "nbformat_minor": 4
}
