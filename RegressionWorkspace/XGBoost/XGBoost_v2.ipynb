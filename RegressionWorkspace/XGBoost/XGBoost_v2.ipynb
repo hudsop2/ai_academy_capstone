{
 "cells": [
  {
   "cell_type": "markdown",
   "metadata": {},
   "source": [
    "Using GridSearchCV to tune the hyperparameters"
   ]
  },
  {
   "cell_type": "markdown",
   "metadata": {},
   "source": [
    "# Part 1: Import libraries"
   ]
  },
  {
   "cell_type": "code",
   "execution_count": 1,
   "metadata": {},
   "outputs": [],
   "source": [
    "import pandas as pd\n",
    "from sklearn.model_selection import train_test_split, GridSearchCV\n",
    "from sklearn.preprocessing import OneHotEncoder, StandardScaler\n",
    "from sklearn.metrics import mean_absolute_error, mean_squared_error, r2_score\n",
    "import xgboost as xgb\n",
    "import numpy as np\n"
   ]
  },
  {
   "cell_type": "markdown",
   "metadata": {},
   "source": [
    "# Part 2: Load the dataset"
   ]
  },
  {
   "cell_type": "code",
   "execution_count": 2,
   "metadata": {},
   "outputs": [
    {
     "data": {
      "text/html": [
       "<div>\n",
       "<style scoped>\n",
       "    .dataframe tbody tr th:only-of-type {\n",
       "        vertical-align: middle;\n",
       "    }\n",
       "\n",
       "    .dataframe tbody tr th {\n",
       "        vertical-align: top;\n",
       "    }\n",
       "\n",
       "    .dataframe thead th {\n",
       "        text-align: right;\n",
       "    }\n",
       "</style>\n",
       "<table border=\"1\" class=\"dataframe\">\n",
       "  <thead>\n",
       "    <tr style=\"text-align: right;\">\n",
       "      <th></th>\n",
       "      <th>month_released</th>\n",
       "      <th>rated</th>\n",
       "      <th>genre</th>\n",
       "      <th>runtime_minutes</th>\n",
       "      <th>belongs_to_collection</th>\n",
       "      <th>production_budget_usd</th>\n",
       "      <th>domestic_gross_usd</th>\n",
       "      <th>worldwide_gross_usd</th>\n",
       "      <th>imdb_score</th>\n",
       "      <th>dir_acted</th>\n",
       "      <th>...</th>\n",
       "      <th>dir_special_effects</th>\n",
       "      <th>dir_stunts</th>\n",
       "      <th>dir_visual_effects</th>\n",
       "      <th>dir_writer</th>\n",
       "      <th>non_dom_gross_usd</th>\n",
       "      <th>title_length</th>\n",
       "      <th>worldwide_roi</th>\n",
       "      <th>domestic_roi</th>\n",
       "      <th>non_dom_roi</th>\n",
       "      <th>success_level_ww</th>\n",
       "    </tr>\n",
       "  </thead>\n",
       "  <tbody>\n",
       "    <tr>\n",
       "      <th>0</th>\n",
       "      <td>5</td>\n",
       "      <td>R</td>\n",
       "      <td>Drama</td>\n",
       "      <td>146.0</td>\n",
       "      <td>0</td>\n",
       "      <td>19000000</td>\n",
       "      <td>44568631</td>\n",
       "      <td>45613093</td>\n",
       "      <td>8.4</td>\n",
       "      <td>0</td>\n",
       "      <td>...</td>\n",
       "      <td>0</td>\n",
       "      <td>0</td>\n",
       "      <td>0</td>\n",
       "      <td>1</td>\n",
       "      <td>1044462</td>\n",
       "      <td>11</td>\n",
       "      <td>1.400689</td>\n",
       "      <td>1.345717</td>\n",
       "      <td>-0.945028</td>\n",
       "      <td>2</td>\n",
       "    </tr>\n",
       "    <tr>\n",
       "      <th>1</th>\n",
       "      <td>6</td>\n",
       "      <td>R</td>\n",
       "      <td>Adventure</td>\n",
       "      <td>104.0</td>\n",
       "      <td>1</td>\n",
       "      <td>4500000</td>\n",
       "      <td>47923795</td>\n",
       "      <td>47923795</td>\n",
       "      <td>5.8</td>\n",
       "      <td>1</td>\n",
       "      <td>...</td>\n",
       "      <td>0</td>\n",
       "      <td>0</td>\n",
       "      <td>0</td>\n",
       "      <td>1</td>\n",
       "      <td>0</td>\n",
       "      <td>15</td>\n",
       "      <td>9.649732</td>\n",
       "      <td>9.649732</td>\n",
       "      <td>-1.000000</td>\n",
       "      <td>2</td>\n",
       "    </tr>\n",
       "    <tr>\n",
       "      <th>2</th>\n",
       "      <td>7</td>\n",
       "      <td>PG</td>\n",
       "      <td>Comedy</td>\n",
       "      <td>88.0</td>\n",
       "      <td>1</td>\n",
       "      <td>3500000</td>\n",
       "      <td>83453539</td>\n",
       "      <td>83453539</td>\n",
       "      <td>7.7</td>\n",
       "      <td>0</td>\n",
       "      <td>...</td>\n",
       "      <td>0</td>\n",
       "      <td>0</td>\n",
       "      <td>0</td>\n",
       "      <td>0</td>\n",
       "      <td>0</td>\n",
       "      <td>9</td>\n",
       "      <td>22.843868</td>\n",
       "      <td>22.843868</td>\n",
       "      <td>-1.000000</td>\n",
       "      <td>2</td>\n",
       "    </tr>\n",
       "    <tr>\n",
       "      <th>3</th>\n",
       "      <td>7</td>\n",
       "      <td>R</td>\n",
       "      <td>Comedy</td>\n",
       "      <td>98.0</td>\n",
       "      <td>1</td>\n",
       "      <td>6000000</td>\n",
       "      <td>39846344</td>\n",
       "      <td>39849764</td>\n",
       "      <td>7.3</td>\n",
       "      <td>1</td>\n",
       "      <td>...</td>\n",
       "      <td>0</td>\n",
       "      <td>0</td>\n",
       "      <td>0</td>\n",
       "      <td>1</td>\n",
       "      <td>3420</td>\n",
       "      <td>10</td>\n",
       "      <td>5.641627</td>\n",
       "      <td>5.641057</td>\n",
       "      <td>-0.999430</td>\n",
       "      <td>2</td>\n",
       "    </tr>\n",
       "    <tr>\n",
       "      <th>4</th>\n",
       "      <td>5</td>\n",
       "      <td>R</td>\n",
       "      <td>Horror</td>\n",
       "      <td>95.0</td>\n",
       "      <td>1</td>\n",
       "      <td>550000</td>\n",
       "      <td>39754601</td>\n",
       "      <td>59754601</td>\n",
       "      <td>6.4</td>\n",
       "      <td>0</td>\n",
       "      <td>...</td>\n",
       "      <td>0</td>\n",
       "      <td>0</td>\n",
       "      <td>0</td>\n",
       "      <td>1</td>\n",
       "      <td>20000000</td>\n",
       "      <td>15</td>\n",
       "      <td>107.644729</td>\n",
       "      <td>71.281093</td>\n",
       "      <td>35.363636</td>\n",
       "      <td>2</td>\n",
       "    </tr>\n",
       "  </tbody>\n",
       "</table>\n",
       "<p>5 rows × 42 columns</p>\n",
       "</div>"
      ],
      "text/plain": [
       "   month_released rated      genre  runtime_minutes  belongs_to_collection  \\\n",
       "0               5     R      Drama            146.0                      0   \n",
       "1               6     R  Adventure            104.0                      1   \n",
       "2               7    PG     Comedy             88.0                      1   \n",
       "3               7     R     Comedy             98.0                      1   \n",
       "4               5     R     Horror             95.0                      1   \n",
       "\n",
       "   production_budget_usd  domestic_gross_usd  worldwide_gross_usd  imdb_score  \\\n",
       "0               19000000            44568631             45613093         8.4   \n",
       "1                4500000            47923795             47923795         5.8   \n",
       "2                3500000            83453539             83453539         7.7   \n",
       "3                6000000            39846344             39849764         7.3   \n",
       "4                 550000            39754601             59754601         6.4   \n",
       "\n",
       "   dir_acted  ...  dir_special_effects  dir_stunts  dir_visual_effects  \\\n",
       "0          0  ...                    0           0                   0   \n",
       "1          1  ...                    0           0                   0   \n",
       "2          0  ...                    0           0                   0   \n",
       "3          1  ...                    0           0                   0   \n",
       "4          0  ...                    0           0                   0   \n",
       "\n",
       "   dir_writer  non_dom_gross_usd  title_length  worldwide_roi  domestic_roi  \\\n",
       "0           1            1044462            11       1.400689      1.345717   \n",
       "1           1                  0            15       9.649732      9.649732   \n",
       "2           0                  0             9      22.843868     22.843868   \n",
       "3           1               3420            10       5.641627      5.641057   \n",
       "4           1           20000000            15     107.644729     71.281093   \n",
       "\n",
       "   non_dom_roi  success_level_ww  \n",
       "0    -0.945028                 2  \n",
       "1    -1.000000                 2  \n",
       "2    -1.000000                 2  \n",
       "3    -0.999430                 2  \n",
       "4    35.363636                 2  \n",
       "\n",
       "[5 rows x 42 columns]"
      ]
     },
     "execution_count": 2,
     "metadata": {},
     "output_type": "execute_result"
    }
   ],
   "source": [
    "df = pd.read_csv('movies_modeling.csv')\n",
    "df.head()"
   ]
  },
  {
   "cell_type": "markdown",
   "metadata": {},
   "source": [
    "From the rated column replace **G**, **Not Rated**, **Unrated**, **NC-17**, and **TV-MA** into another category called **Other**"
   ]
  },
  {
   "cell_type": "code",
   "execution_count": 3,
   "metadata": {},
   "outputs": [],
   "source": [
    "to_replace = [\"G\", \"Not Rated\",\"Unrated\", \"NC-17\", \"TV-MA\"]\n",
    "df[[\"rated\"]] = df[[\"rated\"]].replace(to_replace,\"Other\")"
   ]
  },
  {
   "cell_type": "markdown",
   "metadata": {},
   "source": [
    "From the genre column replace **Fantasy**, **Mistery**, **Thriller**, **Family**, **Sci-Fi**, and **Romance** into another category called **Other**"
   ]
  },
  {
   "cell_type": "code",
   "execution_count": 4,
   "metadata": {},
   "outputs": [],
   "source": [
    "to_replace_genre = [\"Fantasy\", \"Mystery\",\"Family\", \"Sci-Fi\", \"Thriller\", \"Romance\"]\n",
    "df[[\"genre\"]] = df[[\"genre\"]].replace(to_replace_genre,\"Other\")"
   ]
  },
  {
   "cell_type": "markdown",
   "metadata": {},
   "source": [
    "Drop helping columns"
   ]
  },
  {
   "cell_type": "code",
   "execution_count": 5,
   "metadata": {},
   "outputs": [],
   "source": [
    "# Drop revenue-related and roi-related columns\n",
    "to_drop_columns = [\"imdb_score\",\"domestic_gross_usd\", \"non_dom_gross_usd\", \"worldwide_roi\", \"domestic_roi\", \n",
    "                   \"non_dom_roi\", \"success_level_ww\"]\n",
    "new_df = df.drop(to_drop_columns, axis = 1)"
   ]
  },
  {
   "cell_type": "markdown",
   "metadata": {},
   "source": [
    "# Part 3: Split the data"
   ]
  },
  {
   "cell_type": "code",
   "execution_count": 6,
   "metadata": {},
   "outputs": [],
   "source": [
    "X = new_df.drop('worldwide_gross_usd', axis=1)\n",
    "y = new_df['worldwide_gross_usd']\n",
    "\n",
    "# Split 70/30 with a random state of 37 to ensure reproductibility\n",
    "X_train, X_test, y_train, y_test = train_test_split(X, y, test_size=0.3, random_state=37)"
   ]
  },
  {
   "cell_type": "code",
   "execution_count": 7,
   "metadata": {},
   "outputs": [],
   "source": [
    "X_train.reset_index(drop = True, inplace = True)\n",
    "X_test.reset_index(drop = True, inplace = True)\n",
    "y_train.reset_index(drop = True, inplace = True)\n",
    "y_test.reset_index(drop = True, inplace = True)"
   ]
  },
  {
   "cell_type": "markdown",
   "metadata": {},
   "source": [
    "# Part 4: One Hot Encoding "
   ]
  },
  {
   "cell_type": "code",
   "execution_count": 8,
   "metadata": {},
   "outputs": [
    {
     "name": "stderr",
     "output_type": "stream",
     "text": [
      "C:\\Users\\mcastellanosmonte\\Downloads\\Anaconda3\\envs\\learn-env\\lib\\site-packages\\sklearn\\preprocessing\\_encoders.py:975: FutureWarning: `sparse` was renamed to `sparse_output` in version 1.2 and will be removed in 1.4. `sparse_output` is ignored unless you leave `sparse` to its default value.\n",
      "  warnings.warn(\n"
     ]
    }
   ],
   "source": [
    "# OneHotEncode the rating train data\n",
    "\n",
    "# Start the OneHotEncoder\n",
    "ohe = OneHotEncoder(sparse=False)\n",
    "\n",
    "# Make a copy of the dataset to avoid any data leakage and maintain integrity.\n",
    "movie_rating = X_train[['rated']].copy() \n",
    "\n",
    "# Fit the Encoder to the data frame\n",
    "ohe.fit(movie_rating)  \n",
    "\n",
    "# Convert the results to a data frame and make the column names have the rating they are representing.\n",
    "movie_rating_ohe = pd.DataFrame(\n",
    "     data=ohe.transform(movie_rating),\n",
    "     columns=[f\"rating_{rating}\" for rating in ohe.categories_[0]])"
   ]
  },
  {
   "cell_type": "code",
   "execution_count": 9,
   "metadata": {},
   "outputs": [
    {
     "name": "stderr",
     "output_type": "stream",
     "text": [
      "C:\\Users\\mcastellanosmonte\\Downloads\\Anaconda3\\envs\\learn-env\\lib\\site-packages\\sklearn\\preprocessing\\_encoders.py:975: FutureWarning: `sparse` was renamed to `sparse_output` in version 1.2 and will be removed in 1.4. `sparse_output` is ignored unless you leave `sparse` to its default value.\n",
      "  warnings.warn(\n"
     ]
    }
   ],
   "source": [
    "# OneHotEncode the genre train data\n",
    "\n",
    "# Initializing the Encoder\n",
    "ohe = OneHotEncoder(sparse=False)\n",
    "\n",
    "# Make a copy of the dataset to avoid any data leakage and maintain integrity.\n",
    "movie_genre = X_train[['genre']].copy() \n",
    "\n",
    "# Fit the encoder to the dataframe\n",
    "ohe.fit(movie_genre)  \n",
    "\n",
    "# Convert the results to a data frame and make the column names have the genres they are representing.\n",
    "movie_genre_ohe = pd.DataFrame(\n",
    "     data=ohe.transform(movie_genre),\n",
    "     columns=[f\"genre_{genre}\" for genre in ohe.categories_[0]])"
   ]
  },
  {
   "cell_type": "code",
   "execution_count": 10,
   "metadata": {},
   "outputs": [],
   "source": [
    "X_train_ohe = pd.concat([X_train, movie_rating_ohe, movie_genre_ohe], axis=1)\n",
    "X_train_ohe.drop(['rated', 'genre'], axis=1, inplace=True)"
   ]
  },
  {
   "cell_type": "code",
   "execution_count": 11,
   "metadata": {},
   "outputs": [
    {
     "name": "stderr",
     "output_type": "stream",
     "text": [
      "C:\\Users\\mcastellanosmonte\\Downloads\\Anaconda3\\envs\\learn-env\\lib\\site-packages\\sklearn\\preprocessing\\_encoders.py:975: FutureWarning: `sparse` was renamed to `sparse_output` in version 1.2 and will be removed in 1.4. `sparse_output` is ignored unless you leave `sparse` to its default value.\n",
      "  warnings.warn(\n"
     ]
    }
   ],
   "source": [
    "# OneHotEncode the rating test data\n",
    "\n",
    "# Start the OneHotEncoder\n",
    "ohe = OneHotEncoder(sparse=False)\n",
    "\n",
    "# Make a copy of the dataset to avoid any data leakage and maintain integrity.\n",
    "movie_rating = X_test[['rated']].copy() \n",
    "\n",
    "# Fit the Encoder to the data frame\n",
    "ohe.fit(movie_rating)  \n",
    "\n",
    "# Convert the results to a data frame and make the column names have the rating they are representing.\n",
    "movie_rating_ohe = pd.DataFrame(\n",
    "     data=ohe.transform(movie_rating),\n",
    "     columns=[f\"rating_{rating}\" for rating in ohe.categories_[0]])"
   ]
  },
  {
   "cell_type": "code",
   "execution_count": 12,
   "metadata": {},
   "outputs": [
    {
     "name": "stderr",
     "output_type": "stream",
     "text": [
      "C:\\Users\\mcastellanosmonte\\Downloads\\Anaconda3\\envs\\learn-env\\lib\\site-packages\\sklearn\\preprocessing\\_encoders.py:975: FutureWarning: `sparse` was renamed to `sparse_output` in version 1.2 and will be removed in 1.4. `sparse_output` is ignored unless you leave `sparse` to its default value.\n",
      "  warnings.warn(\n"
     ]
    }
   ],
   "source": [
    "# OneHotEncode the genre test data\n",
    "\n",
    "# Initializing the Encoder\n",
    "ohe = OneHotEncoder(sparse=False)\n",
    "\n",
    "# Make a copy of the dataset to avoid any data leakage and maintain integrity.\n",
    "movie_genre = X_test[['genre']].copy() \n",
    "\n",
    "# Fit the encoder to the dataframe\n",
    "ohe.fit(movie_genre)  \n",
    "\n",
    "# Convert the results to a data frame and make the column names have the genres they are representing.\n",
    "movie_genre_ohe = pd.DataFrame(\n",
    "     data=ohe.transform(movie_genre),\n",
    "     columns=[f\"genre_{genre}\" for genre in ohe.categories_[0]])"
   ]
  },
  {
   "cell_type": "code",
   "execution_count": 13,
   "metadata": {},
   "outputs": [],
   "source": [
    "X_test_ohe = pd.concat([X_test, movie_rating_ohe, movie_genre_ohe], axis=1)\n",
    "X_test_ohe.drop(['rated', 'genre'], axis=1, inplace=True)"
   ]
  },
  {
   "cell_type": "markdown",
   "metadata": {},
   "source": [
    "# Part 5: Scale the features"
   ]
  },
  {
   "cell_type": "code",
   "execution_count": 14,
   "metadata": {},
   "outputs": [],
   "source": [
    "scaler = StandardScaler()\n",
    "\n",
    "X_train_scaled = scaler.fit_transform(X_train_ohe)\n",
    "X_test_scaled = scaler.transform(X_test_ohe)"
   ]
  },
  {
   "cell_type": "code",
   "execution_count": 15,
   "metadata": {},
   "outputs": [],
   "source": [
    "X_train_scaled = pd.DataFrame(X_train_scaled, columns=X_train_ohe.columns, index=X_train_ohe.index)\n",
    "X_test_scaled = pd.DataFrame(X_test_scaled, columns=X_test_ohe.columns, index=X_test_ohe.index)"
   ]
  },
  {
   "cell_type": "markdown",
   "metadata": {},
   "source": [
    "# Part 6: Build and fit the model"
   ]
  },
  {
   "cell_type": "code",
   "execution_count": null,
   "metadata": {},
   "outputs": [],
   "source": [
    "# Define the parameter grid\n",
    "param_grid = {\n",
    "    'colsample_bytree': [0.3, 0.7],\n",
    "    'learning_rate': [0.01, 0.1, 0.2],\n",
    "    'max_depth': [4, 5, 6],\n",
    "    'alpha': [5, 10, 15],\n",
    "    'n_estimators': [5, 10, 20]\n",
    "}"
   ]
  },
  {
   "cell_type": "code",
   "execution_count": null,
   "metadata": {},
   "outputs": [],
   "source": [
    "# Instantiate the grid search model\n",
    "grid_search = GridSearchCV(estimator=xgb.XGBRegressor(objective='reg:squarederror'),\n",
    "                          param_grid = param_grid,\n",
    "                          cv = 3, n_jobs=-1, verbose=2)"
   ]
  },
  {
   "cell_type": "code",
   "execution_count": null,
   "metadata": {},
   "outputs": [],
   "source": [
    "grid_search.fit(X_train_scaled, y_train)"
   ]
  },
  {
   "cell_type": "code",
   "execution_count": 16,
   "metadata": {},
   "outputs": [
    {
     "ename": "NameError",
     "evalue": "name 'grid_search' is not defined",
     "output_type": "error",
     "traceback": [
      "\u001b[1;31m---------------------------------------------------------------------------\u001b[0m",
      "\u001b[1;31mNameError\u001b[0m                                 Traceback (most recent call last)",
      "\u001b[1;32m<ipython-input-16-edcb691dead4>\u001b[0m in \u001b[0;36m<module>\u001b[1;34m\u001b[0m\n\u001b[1;32m----> 1\u001b[1;33m \u001b[0mprint\u001b[0m\u001b[1;33m(\u001b[0m\u001b[0mgrid_search\u001b[0m\u001b[1;33m.\u001b[0m\u001b[0mbest_params_\u001b[0m\u001b[1;33m)\u001b[0m\u001b[1;33m\u001b[0m\u001b[1;33m\u001b[0m\u001b[0m\n\u001b[0m",
      "\u001b[1;31mNameError\u001b[0m: name 'grid_search' is not defined"
     ]
    }
   ],
   "source": [
    "print(grid_search.best_params_)"
   ]
  },
  {
   "cell_type": "code",
   "execution_count": 17,
   "metadata": {},
   "outputs": [],
   "source": [
    "# Instantiate the XGBRegressor with the best parameters\n",
    "xg_reg = xgb.XGBRegressor(objective='reg:squarederror', colsample_bytree=0.7, learning_rate=0.2, max_depth=5,\n",
    "                         alpha=15, n_estimators=20)"
   ]
  },
  {
   "cell_type": "code",
   "execution_count": 18,
   "metadata": {},
   "outputs": [
    {
     "data": {
      "text/html": [
       "<style>#sk-container-id-1 {color: black;}#sk-container-id-1 pre{padding: 0;}#sk-container-id-1 div.sk-toggleable {background-color: white;}#sk-container-id-1 label.sk-toggleable__label {cursor: pointer;display: block;width: 100%;margin-bottom: 0;padding: 0.3em;box-sizing: border-box;text-align: center;}#sk-container-id-1 label.sk-toggleable__label-arrow:before {content: \"▸\";float: left;margin-right: 0.25em;color: #696969;}#sk-container-id-1 label.sk-toggleable__label-arrow:hover:before {color: black;}#sk-container-id-1 div.sk-estimator:hover label.sk-toggleable__label-arrow:before {color: black;}#sk-container-id-1 div.sk-toggleable__content {max-height: 0;max-width: 0;overflow: hidden;text-align: left;background-color: #f0f8ff;}#sk-container-id-1 div.sk-toggleable__content pre {margin: 0.2em;color: black;border-radius: 0.25em;background-color: #f0f8ff;}#sk-container-id-1 input.sk-toggleable__control:checked~div.sk-toggleable__content {max-height: 200px;max-width: 100%;overflow: auto;}#sk-container-id-1 input.sk-toggleable__control:checked~label.sk-toggleable__label-arrow:before {content: \"▾\";}#sk-container-id-1 div.sk-estimator input.sk-toggleable__control:checked~label.sk-toggleable__label {background-color: #d4ebff;}#sk-container-id-1 div.sk-label input.sk-toggleable__control:checked~label.sk-toggleable__label {background-color: #d4ebff;}#sk-container-id-1 input.sk-hidden--visually {border: 0;clip: rect(1px 1px 1px 1px);clip: rect(1px, 1px, 1px, 1px);height: 1px;margin: -1px;overflow: hidden;padding: 0;position: absolute;width: 1px;}#sk-container-id-1 div.sk-estimator {font-family: monospace;background-color: #f0f8ff;border: 1px dotted black;border-radius: 0.25em;box-sizing: border-box;margin-bottom: 0.5em;}#sk-container-id-1 div.sk-estimator:hover {background-color: #d4ebff;}#sk-container-id-1 div.sk-parallel-item::after {content: \"\";width: 100%;border-bottom: 1px solid gray;flex-grow: 1;}#sk-container-id-1 div.sk-label:hover label.sk-toggleable__label {background-color: #d4ebff;}#sk-container-id-1 div.sk-serial::before {content: \"\";position: absolute;border-left: 1px solid gray;box-sizing: border-box;top: 0;bottom: 0;left: 50%;z-index: 0;}#sk-container-id-1 div.sk-serial {display: flex;flex-direction: column;align-items: center;background-color: white;padding-right: 0.2em;padding-left: 0.2em;position: relative;}#sk-container-id-1 div.sk-item {position: relative;z-index: 1;}#sk-container-id-1 div.sk-parallel {display: flex;align-items: stretch;justify-content: center;background-color: white;position: relative;}#sk-container-id-1 div.sk-item::before, #sk-container-id-1 div.sk-parallel-item::before {content: \"\";position: absolute;border-left: 1px solid gray;box-sizing: border-box;top: 0;bottom: 0;left: 50%;z-index: -1;}#sk-container-id-1 div.sk-parallel-item {display: flex;flex-direction: column;z-index: 1;position: relative;background-color: white;}#sk-container-id-1 div.sk-parallel-item:first-child::after {align-self: flex-end;width: 50%;}#sk-container-id-1 div.sk-parallel-item:last-child::after {align-self: flex-start;width: 50%;}#sk-container-id-1 div.sk-parallel-item:only-child::after {width: 0;}#sk-container-id-1 div.sk-dashed-wrapped {border: 1px dashed gray;margin: 0 0.4em 0.5em 0.4em;box-sizing: border-box;padding-bottom: 0.4em;background-color: white;}#sk-container-id-1 div.sk-label label {font-family: monospace;font-weight: bold;display: inline-block;line-height: 1.2em;}#sk-container-id-1 div.sk-label-container {text-align: center;}#sk-container-id-1 div.sk-container {/* jupyter's `normalize.less` sets `[hidden] { display: none; }` but bootstrap.min.css set `[hidden] { display: none !important; }` so we also need the `!important` here to be able to override the default hidden behavior on the sphinx rendered scikit-learn.org. See: https://github.com/scikit-learn/scikit-learn/issues/21755 */display: inline-block !important;position: relative;}#sk-container-id-1 div.sk-text-repr-fallback {display: none;}</style><div id=\"sk-container-id-1\" class=\"sk-top-container\"><div class=\"sk-text-repr-fallback\"><pre>XGBRegressor(alpha=15, base_score=0.5, booster=&#x27;gbtree&#x27;, colsample_bylevel=1,\n",
       "             colsample_bynode=1, colsample_bytree=0.7, gamma=0, gpu_id=-1,\n",
       "             importance_type=&#x27;gain&#x27;, interaction_constraints=&#x27;&#x27;,\n",
       "             learning_rate=0.2, max_delta_step=0, max_depth=5,\n",
       "             min_child_weight=1, missing=nan, monotone_constraints=&#x27;()&#x27;,\n",
       "             n_estimators=20, n_jobs=0, num_parallel_tree=1, random_state=0,\n",
       "             reg_alpha=15, reg_lambda=1, scale_pos_weight=1, subsample=1,\n",
       "             tree_method=&#x27;exact&#x27;, validate_parameters=1, verbosity=None)</pre><b>In a Jupyter environment, please rerun this cell to show the HTML representation or trust the notebook. <br />On GitHub, the HTML representation is unable to render, please try loading this page with nbviewer.org.</b></div><div class=\"sk-container\" hidden><div class=\"sk-item\"><div class=\"sk-estimator sk-toggleable\"><input class=\"sk-toggleable__control sk-hidden--visually\" id=\"sk-estimator-id-1\" type=\"checkbox\" checked><label for=\"sk-estimator-id-1\" class=\"sk-toggleable__label sk-toggleable__label-arrow\">XGBRegressor</label><div class=\"sk-toggleable__content\"><pre>XGBRegressor(alpha=15, base_score=0.5, booster=&#x27;gbtree&#x27;, colsample_bylevel=1,\n",
       "             colsample_bynode=1, colsample_bytree=0.7, gamma=0, gpu_id=-1,\n",
       "             importance_type=&#x27;gain&#x27;, interaction_constraints=&#x27;&#x27;,\n",
       "             learning_rate=0.2, max_delta_step=0, max_depth=5,\n",
       "             min_child_weight=1, missing=nan, monotone_constraints=&#x27;()&#x27;,\n",
       "             n_estimators=20, n_jobs=0, num_parallel_tree=1, random_state=0,\n",
       "             reg_alpha=15, reg_lambda=1, scale_pos_weight=1, subsample=1,\n",
       "             tree_method=&#x27;exact&#x27;, validate_parameters=1, verbosity=None)</pre></div></div></div></div></div>"
      ],
      "text/plain": [
       "XGBRegressor(alpha=15, base_score=0.5, booster='gbtree', colsample_bylevel=1,\n",
       "             colsample_bynode=1, colsample_bytree=0.7, gamma=0, gpu_id=-1,\n",
       "             importance_type='gain', interaction_constraints='',\n",
       "             learning_rate=0.2, max_delta_step=0, max_depth=5,\n",
       "             min_child_weight=1, missing=nan, monotone_constraints='()',\n",
       "             n_estimators=20, n_jobs=0, num_parallel_tree=1, random_state=0,\n",
       "             reg_alpha=15, reg_lambda=1, scale_pos_weight=1, subsample=1,\n",
       "             tree_method='exact', validate_parameters=1, verbosity=None)"
      ]
     },
     "execution_count": 18,
     "metadata": {},
     "output_type": "execute_result"
    }
   ],
   "source": [
    "xg_reg.fit(X_train_scaled, y_train)"
   ]
  },
  {
   "cell_type": "code",
   "execution_count": 19,
   "metadata": {},
   "outputs": [],
   "source": [
    "preds = xg_reg.predict(X_test_scaled)"
   ]
  },
  {
   "cell_type": "code",
   "execution_count": 20,
   "metadata": {},
   "outputs": [
    {
     "name": "stdout",
     "output_type": "stream",
     "text": [
      "RMSE:  118205115.27977513\n"
     ]
    }
   ],
   "source": [
    "rmse = np.sqrt(mean_squared_error(y_test, preds))\n",
    "print('RMSE: ', rmse)"
   ]
  },
  {
   "cell_type": "code",
   "execution_count": 21,
   "metadata": {},
   "outputs": [
    {
     "name": "stdout",
     "output_type": "stream",
     "text": [
      "R2:  0.588137968919063\n"
     ]
    }
   ],
   "source": [
    "print('R2: ', r2_score(y_test, preds))"
   ]
  },
  {
   "cell_type": "code",
   "execution_count": 22,
   "metadata": {},
   "outputs": [
    {
     "name": "stdout",
     "output_type": "stream",
     "text": [
      "1395309583\n"
     ]
    }
   ],
   "source": [
    "range_target = y_test.max() - y_test.min()\n",
    "print(range_target)"
   ]
  },
  {
   "cell_type": "code",
   "execution_count": null,
   "metadata": {},
   "outputs": [],
   "source": []
  },
  {
   "cell_type": "code",
   "execution_count": null,
   "metadata": {},
   "outputs": [],
   "source": []
  }
 ],
 "metadata": {
  "kernelspec": {
   "display_name": "Python (learn-env)",
   "language": "python",
   "name": "learn-env"
  },
  "language_info": {
   "codemirror_mode": {
    "name": "ipython",
    "version": 3
   },
   "file_extension": ".py",
   "mimetype": "text/x-python",
   "name": "python",
   "nbconvert_exporter": "python",
   "pygments_lexer": "ipython3",
   "version": "3.8.5"
  }
 },
 "nbformat": 4,
 "nbformat_minor": 4
}
