{
 "cells": [
  {
   "cell_type": "markdown",
   "metadata": {},
   "source": [
    "# Part 1: Import libraries"
   ]
  },
  {
   "cell_type": "code",
   "execution_count": 1,
   "metadata": {},
   "outputs": [],
   "source": [
    "import pandas as pd\n",
    "from sklearn.model_selection import train_test_split, GridSearchCV\n",
    "from sklearn.preprocessing import OneHotEncoder, StandardScaler\n",
    "from sklearn.metrics import mean_absolute_error, mean_squared_error, r2_score\n",
    "import xgboost as xgb\n",
    "import numpy as np\n",
    "from sklearn.ensemble import RandomForestRegressor"
   ]
  },
  {
   "cell_type": "markdown",
   "metadata": {},
   "source": [
    "# Part 2: Load the dataset"
   ]
  },
  {
   "cell_type": "code",
   "execution_count": 2,
   "metadata": {},
   "outputs": [
    {
     "data": {
      "text/html": [
       "<div>\n",
       "<style scoped>\n",
       "    .dataframe tbody tr th:only-of-type {\n",
       "        vertical-align: middle;\n",
       "    }\n",
       "\n",
       "    .dataframe tbody tr th {\n",
       "        vertical-align: top;\n",
       "    }\n",
       "\n",
       "    .dataframe thead th {\n",
       "        text-align: right;\n",
       "    }\n",
       "</style>\n",
       "<table border=\"1\" class=\"dataframe\">\n",
       "  <thead>\n",
       "    <tr style=\"text-align: right;\">\n",
       "      <th></th>\n",
       "      <th>month_released</th>\n",
       "      <th>rated</th>\n",
       "      <th>genre</th>\n",
       "      <th>runtime_minutes</th>\n",
       "      <th>belongs_to_collection</th>\n",
       "      <th>production_budget_usd</th>\n",
       "      <th>domestic_gross_usd</th>\n",
       "      <th>worldwide_gross_usd</th>\n",
       "      <th>imdb_score</th>\n",
       "      <th>dir_acted</th>\n",
       "      <th>...</th>\n",
       "      <th>dir_special_effects</th>\n",
       "      <th>dir_stunts</th>\n",
       "      <th>dir_visual_effects</th>\n",
       "      <th>dir_writer</th>\n",
       "      <th>non_dom_gross_usd</th>\n",
       "      <th>title_length</th>\n",
       "      <th>worldwide_roi</th>\n",
       "      <th>domestic_roi</th>\n",
       "      <th>non_dom_roi</th>\n",
       "      <th>success_level_ww</th>\n",
       "    </tr>\n",
       "  </thead>\n",
       "  <tbody>\n",
       "    <tr>\n",
       "      <th>0</th>\n",
       "      <td>5</td>\n",
       "      <td>R</td>\n",
       "      <td>Drama</td>\n",
       "      <td>146.0</td>\n",
       "      <td>0</td>\n",
       "      <td>19000000</td>\n",
       "      <td>44568631</td>\n",
       "      <td>45613093</td>\n",
       "      <td>8.4</td>\n",
       "      <td>0</td>\n",
       "      <td>...</td>\n",
       "      <td>0</td>\n",
       "      <td>0</td>\n",
       "      <td>0</td>\n",
       "      <td>1</td>\n",
       "      <td>1044462</td>\n",
       "      <td>11</td>\n",
       "      <td>1.400689</td>\n",
       "      <td>1.345717</td>\n",
       "      <td>-0.945028</td>\n",
       "      <td>2</td>\n",
       "    </tr>\n",
       "    <tr>\n",
       "      <th>1</th>\n",
       "      <td>6</td>\n",
       "      <td>R</td>\n",
       "      <td>Adventure</td>\n",
       "      <td>104.0</td>\n",
       "      <td>1</td>\n",
       "      <td>4500000</td>\n",
       "      <td>47923795</td>\n",
       "      <td>47923795</td>\n",
       "      <td>5.8</td>\n",
       "      <td>1</td>\n",
       "      <td>...</td>\n",
       "      <td>0</td>\n",
       "      <td>0</td>\n",
       "      <td>0</td>\n",
       "      <td>1</td>\n",
       "      <td>0</td>\n",
       "      <td>15</td>\n",
       "      <td>9.649732</td>\n",
       "      <td>9.649732</td>\n",
       "      <td>-1.000000</td>\n",
       "      <td>2</td>\n",
       "    </tr>\n",
       "    <tr>\n",
       "      <th>2</th>\n",
       "      <td>7</td>\n",
       "      <td>PG</td>\n",
       "      <td>Comedy</td>\n",
       "      <td>88.0</td>\n",
       "      <td>1</td>\n",
       "      <td>3500000</td>\n",
       "      <td>83453539</td>\n",
       "      <td>83453539</td>\n",
       "      <td>7.7</td>\n",
       "      <td>0</td>\n",
       "      <td>...</td>\n",
       "      <td>0</td>\n",
       "      <td>0</td>\n",
       "      <td>0</td>\n",
       "      <td>0</td>\n",
       "      <td>0</td>\n",
       "      <td>9</td>\n",
       "      <td>22.843868</td>\n",
       "      <td>22.843868</td>\n",
       "      <td>-1.000000</td>\n",
       "      <td>2</td>\n",
       "    </tr>\n",
       "    <tr>\n",
       "      <th>3</th>\n",
       "      <td>7</td>\n",
       "      <td>R</td>\n",
       "      <td>Comedy</td>\n",
       "      <td>98.0</td>\n",
       "      <td>1</td>\n",
       "      <td>6000000</td>\n",
       "      <td>39846344</td>\n",
       "      <td>39849764</td>\n",
       "      <td>7.3</td>\n",
       "      <td>1</td>\n",
       "      <td>...</td>\n",
       "      <td>0</td>\n",
       "      <td>0</td>\n",
       "      <td>0</td>\n",
       "      <td>1</td>\n",
       "      <td>3420</td>\n",
       "      <td>10</td>\n",
       "      <td>5.641627</td>\n",
       "      <td>5.641057</td>\n",
       "      <td>-0.999430</td>\n",
       "      <td>2</td>\n",
       "    </tr>\n",
       "    <tr>\n",
       "      <th>4</th>\n",
       "      <td>5</td>\n",
       "      <td>R</td>\n",
       "      <td>Horror</td>\n",
       "      <td>95.0</td>\n",
       "      <td>1</td>\n",
       "      <td>550000</td>\n",
       "      <td>39754601</td>\n",
       "      <td>59754601</td>\n",
       "      <td>6.4</td>\n",
       "      <td>0</td>\n",
       "      <td>...</td>\n",
       "      <td>0</td>\n",
       "      <td>0</td>\n",
       "      <td>0</td>\n",
       "      <td>1</td>\n",
       "      <td>20000000</td>\n",
       "      <td>15</td>\n",
       "      <td>107.644729</td>\n",
       "      <td>71.281093</td>\n",
       "      <td>35.363636</td>\n",
       "      <td>2</td>\n",
       "    </tr>\n",
       "  </tbody>\n",
       "</table>\n",
       "<p>5 rows × 42 columns</p>\n",
       "</div>"
      ],
      "text/plain": [
       "   month_released rated      genre  runtime_minutes  belongs_to_collection  \\\n",
       "0               5     R      Drama            146.0                      0   \n",
       "1               6     R  Adventure            104.0                      1   \n",
       "2               7    PG     Comedy             88.0                      1   \n",
       "3               7     R     Comedy             98.0                      1   \n",
       "4               5     R     Horror             95.0                      1   \n",
       "\n",
       "   production_budget_usd  domestic_gross_usd  worldwide_gross_usd  imdb_score  \\\n",
       "0               19000000            44568631             45613093         8.4   \n",
       "1                4500000            47923795             47923795         5.8   \n",
       "2                3500000            83453539             83453539         7.7   \n",
       "3                6000000            39846344             39849764         7.3   \n",
       "4                 550000            39754601             59754601         6.4   \n",
       "\n",
       "   dir_acted  ...  dir_special_effects  dir_stunts  dir_visual_effects  \\\n",
       "0          0  ...                    0           0                   0   \n",
       "1          1  ...                    0           0                   0   \n",
       "2          0  ...                    0           0                   0   \n",
       "3          1  ...                    0           0                   0   \n",
       "4          0  ...                    0           0                   0   \n",
       "\n",
       "   dir_writer  non_dom_gross_usd  title_length  worldwide_roi  domestic_roi  \\\n",
       "0           1            1044462            11       1.400689      1.345717   \n",
       "1           1                  0            15       9.649732      9.649732   \n",
       "2           0                  0             9      22.843868     22.843868   \n",
       "3           1               3420            10       5.641627      5.641057   \n",
       "4           1           20000000            15     107.644729     71.281093   \n",
       "\n",
       "   non_dom_roi  success_level_ww  \n",
       "0    -0.945028                 2  \n",
       "1    -1.000000                 2  \n",
       "2    -1.000000                 2  \n",
       "3    -0.999430                 2  \n",
       "4    35.363636                 2  \n",
       "\n",
       "[5 rows x 42 columns]"
      ]
     },
     "execution_count": 2,
     "metadata": {},
     "output_type": "execute_result"
    }
   ],
   "source": [
    "df = pd.read_csv('movies_modeling.csv')\n",
    "df.head()"
   ]
  },
  {
   "cell_type": "markdown",
   "metadata": {},
   "source": [
    "From the rated column replace **G**, **Not Rated**, **Unrated**, **NC-17**, and **TV-MA** into another category called **Other**"
   ]
  },
  {
   "cell_type": "code",
   "execution_count": 3,
   "metadata": {},
   "outputs": [],
   "source": [
    "to_replace = [\"G\", \"Not Rated\",\"Unrated\", \"NC-17\", \"TV-MA\"]\n",
    "df[[\"rated\"]] = df[[\"rated\"]].replace(to_replace,\"Other\")"
   ]
  },
  {
   "cell_type": "markdown",
   "metadata": {},
   "source": [
    "From the genre column replace **Fantasy**, **Mistery**, **Thriller**, **Family**, **Sci-Fi**, and **Romance** into another category called **Other**"
   ]
  },
  {
   "cell_type": "code",
   "execution_count": 4,
   "metadata": {},
   "outputs": [],
   "source": [
    "to_replace_genre = [\"Fantasy\", \"Mystery\",\"Family\", \"Sci-Fi\", \"Thriller\", \"Romance\"]\n",
    "df[[\"genre\"]] = df[[\"genre\"]].replace(to_replace_genre,\"Other\")"
   ]
  },
  {
   "cell_type": "markdown",
   "metadata": {},
   "source": [
    "Drop helping columns"
   ]
  },
  {
   "cell_type": "code",
   "execution_count": 5,
   "metadata": {},
   "outputs": [],
   "source": [
    "# Drop revenue-related and roi-related columns\n",
    "to_drop_columns = [\"imdb_score\",\"domestic_gross_usd\", \"non_dom_gross_usd\", \"worldwide_roi\", \"domestic_roi\", \n",
    "                   \"non_dom_roi\", \"success_level_ww\"]\n",
    "new_df = df.drop(to_drop_columns, axis = 1)"
   ]
  },
  {
   "cell_type": "markdown",
   "metadata": {},
   "source": [
    "# Part 3: Split the data"
   ]
  },
  {
   "cell_type": "code",
   "execution_count": 6,
   "metadata": {},
   "outputs": [],
   "source": [
    "X = new_df.drop('worldwide_gross_usd', axis=1)\n",
    "y = new_df['worldwide_gross_usd']\n",
    "\n",
    "# Split 70/30 with a random state of 37 to ensure reproductibility\n",
    "X_train, X_test, y_train, y_test = train_test_split(X, y, test_size=0.3, random_state=37)"
   ]
  },
  {
   "cell_type": "code",
   "execution_count": 7,
   "metadata": {},
   "outputs": [],
   "source": [
    "X_train.reset_index(drop = True, inplace = True)\n",
    "X_test.reset_index(drop = True, inplace = True)\n",
    "y_train.reset_index(drop = True, inplace = True)\n",
    "y_test.reset_index(drop = True, inplace = True)"
   ]
  },
  {
   "cell_type": "markdown",
   "metadata": {},
   "source": [
    "# Part 4: One Hot Encoding "
   ]
  },
  {
   "cell_type": "code",
   "execution_count": 8,
   "metadata": {},
   "outputs": [
    {
     "name": "stderr",
     "output_type": "stream",
     "text": [
      "C:\\Users\\mcastellanosmonte\\Downloads\\Anaconda3\\envs\\learn-env\\lib\\site-packages\\sklearn\\preprocessing\\_encoders.py:975: FutureWarning: `sparse` was renamed to `sparse_output` in version 1.2 and will be removed in 1.4. `sparse_output` is ignored unless you leave `sparse` to its default value.\n",
      "  warnings.warn(\n"
     ]
    }
   ],
   "source": [
    "# OneHotEncode the rating train data\n",
    "\n",
    "# Start the OneHotEncoder\n",
    "ohe = OneHotEncoder(sparse=False)\n",
    "\n",
    "# Make a copy of the dataset to avoid any data leakage and maintain integrity.\n",
    "movie_rating = X_train[['rated']].copy() \n",
    "\n",
    "# Fit the Encoder to the data frame\n",
    "ohe.fit(movie_rating)  \n",
    "\n",
    "# Convert the results to a data frame and make the column names have the rating they are representing.\n",
    "movie_rating_ohe = pd.DataFrame(\n",
    "     data=ohe.transform(movie_rating),\n",
    "     columns=[f\"rating_{rating}\" for rating in ohe.categories_[0]])"
   ]
  },
  {
   "cell_type": "code",
   "execution_count": 9,
   "metadata": {},
   "outputs": [
    {
     "name": "stderr",
     "output_type": "stream",
     "text": [
      "C:\\Users\\mcastellanosmonte\\Downloads\\Anaconda3\\envs\\learn-env\\lib\\site-packages\\sklearn\\preprocessing\\_encoders.py:975: FutureWarning: `sparse` was renamed to `sparse_output` in version 1.2 and will be removed in 1.4. `sparse_output` is ignored unless you leave `sparse` to its default value.\n",
      "  warnings.warn(\n"
     ]
    }
   ],
   "source": [
    "# OneHotEncode the genre train data\n",
    "\n",
    "# Initializing the Encoder\n",
    "ohe = OneHotEncoder(sparse=False)\n",
    "\n",
    "# Make a copy of the dataset to avoid any data leakage and maintain integrity.\n",
    "movie_genre = X_train[['genre']].copy() \n",
    "\n",
    "# Fit the encoder to the dataframe\n",
    "ohe.fit(movie_genre)  \n",
    "\n",
    "# Convert the results to a data frame and make the column names have the genres they are representing.\n",
    "movie_genre_ohe = pd.DataFrame(\n",
    "     data=ohe.transform(movie_genre),\n",
    "     columns=[f\"genre_{genre}\" for genre in ohe.categories_[0]])"
   ]
  },
  {
   "cell_type": "code",
   "execution_count": 10,
   "metadata": {},
   "outputs": [],
   "source": [
    "X_train_ohe = pd.concat([X_train, movie_rating_ohe, movie_genre_ohe], axis=1)\n",
    "X_train_ohe.drop(['rated', 'genre'], axis=1, inplace=True)"
   ]
  },
  {
   "cell_type": "code",
   "execution_count": 11,
   "metadata": {},
   "outputs": [
    {
     "name": "stderr",
     "output_type": "stream",
     "text": [
      "C:\\Users\\mcastellanosmonte\\Downloads\\Anaconda3\\envs\\learn-env\\lib\\site-packages\\sklearn\\preprocessing\\_encoders.py:975: FutureWarning: `sparse` was renamed to `sparse_output` in version 1.2 and will be removed in 1.4. `sparse_output` is ignored unless you leave `sparse` to its default value.\n",
      "  warnings.warn(\n"
     ]
    }
   ],
   "source": [
    "# OneHotEncode the rating test data\n",
    "\n",
    "# Start the OneHotEncoder\n",
    "ohe = OneHotEncoder(sparse=False)\n",
    "\n",
    "# Make a copy of the dataset to avoid any data leakage and maintain integrity.\n",
    "movie_rating = X_test[['rated']].copy() \n",
    "\n",
    "# Fit the Encoder to the data frame\n",
    "ohe.fit(movie_rating)  \n",
    "\n",
    "# Convert the results to a data frame and make the column names have the rating they are representing.\n",
    "movie_rating_ohe = pd.DataFrame(\n",
    "     data=ohe.transform(movie_rating),\n",
    "     columns=[f\"rating_{rating}\" for rating in ohe.categories_[0]])"
   ]
  },
  {
   "cell_type": "code",
   "execution_count": 12,
   "metadata": {},
   "outputs": [
    {
     "name": "stderr",
     "output_type": "stream",
     "text": [
      "C:\\Users\\mcastellanosmonte\\Downloads\\Anaconda3\\envs\\learn-env\\lib\\site-packages\\sklearn\\preprocessing\\_encoders.py:975: FutureWarning: `sparse` was renamed to `sparse_output` in version 1.2 and will be removed in 1.4. `sparse_output` is ignored unless you leave `sparse` to its default value.\n",
      "  warnings.warn(\n"
     ]
    }
   ],
   "source": [
    "# OneHotEncode the genre test data\n",
    "\n",
    "# Initializing the Encoder\n",
    "ohe = OneHotEncoder(sparse=False)\n",
    "\n",
    "# Make a copy of the dataset to avoid any data leakage and maintain integrity.\n",
    "movie_genre = X_test[['genre']].copy() \n",
    "\n",
    "# Fit the encoder to the dataframe\n",
    "ohe.fit(movie_genre)  \n",
    "\n",
    "# Convert the results to a data frame and make the column names have the genres they are representing.\n",
    "movie_genre_ohe = pd.DataFrame(\n",
    "     data=ohe.transform(movie_genre),\n",
    "     columns=[f\"genre_{genre}\" for genre in ohe.categories_[0]])"
   ]
  },
  {
   "cell_type": "code",
   "execution_count": 13,
   "metadata": {},
   "outputs": [],
   "source": [
    "X_test_ohe = pd.concat([X_test, movie_rating_ohe, movie_genre_ohe], axis=1)\n",
    "X_test_ohe.drop(['rated', 'genre'], axis=1, inplace=True)"
   ]
  },
  {
   "cell_type": "markdown",
   "metadata": {},
   "source": [
    "# Part 5: Scale the features"
   ]
  },
  {
   "cell_type": "code",
   "execution_count": 14,
   "metadata": {},
   "outputs": [],
   "source": [
    "scaler = StandardScaler()\n",
    "\n",
    "X_train_scaled = scaler.fit_transform(X_train_ohe)\n",
    "X_test_scaled = scaler.transform(X_test_ohe)"
   ]
  },
  {
   "cell_type": "code",
   "execution_count": 15,
   "metadata": {},
   "outputs": [],
   "source": [
    "X_train_scaled = pd.DataFrame(X_train_scaled, columns=X_train_ohe.columns, index=X_train_ohe.index)\n",
    "X_test_scaled = pd.DataFrame(X_test_scaled, columns=X_test_ohe.columns, index=X_test_ohe.index)"
   ]
  },
  {
   "cell_type": "markdown",
   "metadata": {},
   "source": [
    "# Part 6: Build and fit the model"
   ]
  },
  {
   "cell_type": "code",
   "execution_count": 16,
   "metadata": {},
   "outputs": [],
   "source": [
    "rf = RandomForestRegressor(n_estimators=100, random_state=42)"
   ]
  },
  {
   "cell_type": "code",
   "execution_count": 17,
   "metadata": {},
   "outputs": [
    {
     "data": {
      "text/html": [
       "<style>#sk-container-id-1 {color: black;}#sk-container-id-1 pre{padding: 0;}#sk-container-id-1 div.sk-toggleable {background-color: white;}#sk-container-id-1 label.sk-toggleable__label {cursor: pointer;display: block;width: 100%;margin-bottom: 0;padding: 0.3em;box-sizing: border-box;text-align: center;}#sk-container-id-1 label.sk-toggleable__label-arrow:before {content: \"▸\";float: left;margin-right: 0.25em;color: #696969;}#sk-container-id-1 label.sk-toggleable__label-arrow:hover:before {color: black;}#sk-container-id-1 div.sk-estimator:hover label.sk-toggleable__label-arrow:before {color: black;}#sk-container-id-1 div.sk-toggleable__content {max-height: 0;max-width: 0;overflow: hidden;text-align: left;background-color: #f0f8ff;}#sk-container-id-1 div.sk-toggleable__content pre {margin: 0.2em;color: black;border-radius: 0.25em;background-color: #f0f8ff;}#sk-container-id-1 input.sk-toggleable__control:checked~div.sk-toggleable__content {max-height: 200px;max-width: 100%;overflow: auto;}#sk-container-id-1 input.sk-toggleable__control:checked~label.sk-toggleable__label-arrow:before {content: \"▾\";}#sk-container-id-1 div.sk-estimator input.sk-toggleable__control:checked~label.sk-toggleable__label {background-color: #d4ebff;}#sk-container-id-1 div.sk-label input.sk-toggleable__control:checked~label.sk-toggleable__label {background-color: #d4ebff;}#sk-container-id-1 input.sk-hidden--visually {border: 0;clip: rect(1px 1px 1px 1px);clip: rect(1px, 1px, 1px, 1px);height: 1px;margin: -1px;overflow: hidden;padding: 0;position: absolute;width: 1px;}#sk-container-id-1 div.sk-estimator {font-family: monospace;background-color: #f0f8ff;border: 1px dotted black;border-radius: 0.25em;box-sizing: border-box;margin-bottom: 0.5em;}#sk-container-id-1 div.sk-estimator:hover {background-color: #d4ebff;}#sk-container-id-1 div.sk-parallel-item::after {content: \"\";width: 100%;border-bottom: 1px solid gray;flex-grow: 1;}#sk-container-id-1 div.sk-label:hover label.sk-toggleable__label {background-color: #d4ebff;}#sk-container-id-1 div.sk-serial::before {content: \"\";position: absolute;border-left: 1px solid gray;box-sizing: border-box;top: 0;bottom: 0;left: 50%;z-index: 0;}#sk-container-id-1 div.sk-serial {display: flex;flex-direction: column;align-items: center;background-color: white;padding-right: 0.2em;padding-left: 0.2em;position: relative;}#sk-container-id-1 div.sk-item {position: relative;z-index: 1;}#sk-container-id-1 div.sk-parallel {display: flex;align-items: stretch;justify-content: center;background-color: white;position: relative;}#sk-container-id-1 div.sk-item::before, #sk-container-id-1 div.sk-parallel-item::before {content: \"\";position: absolute;border-left: 1px solid gray;box-sizing: border-box;top: 0;bottom: 0;left: 50%;z-index: -1;}#sk-container-id-1 div.sk-parallel-item {display: flex;flex-direction: column;z-index: 1;position: relative;background-color: white;}#sk-container-id-1 div.sk-parallel-item:first-child::after {align-self: flex-end;width: 50%;}#sk-container-id-1 div.sk-parallel-item:last-child::after {align-self: flex-start;width: 50%;}#sk-container-id-1 div.sk-parallel-item:only-child::after {width: 0;}#sk-container-id-1 div.sk-dashed-wrapped {border: 1px dashed gray;margin: 0 0.4em 0.5em 0.4em;box-sizing: border-box;padding-bottom: 0.4em;background-color: white;}#sk-container-id-1 div.sk-label label {font-family: monospace;font-weight: bold;display: inline-block;line-height: 1.2em;}#sk-container-id-1 div.sk-label-container {text-align: center;}#sk-container-id-1 div.sk-container {/* jupyter's `normalize.less` sets `[hidden] { display: none; }` but bootstrap.min.css set `[hidden] { display: none !important; }` so we also need the `!important` here to be able to override the default hidden behavior on the sphinx rendered scikit-learn.org. See: https://github.com/scikit-learn/scikit-learn/issues/21755 */display: inline-block !important;position: relative;}#sk-container-id-1 div.sk-text-repr-fallback {display: none;}</style><div id=\"sk-container-id-1\" class=\"sk-top-container\"><div class=\"sk-text-repr-fallback\"><pre>RandomForestRegressor(random_state=42)</pre><b>In a Jupyter environment, please rerun this cell to show the HTML representation or trust the notebook. <br />On GitHub, the HTML representation is unable to render, please try loading this page with nbviewer.org.</b></div><div class=\"sk-container\" hidden><div class=\"sk-item\"><div class=\"sk-estimator sk-toggleable\"><input class=\"sk-toggleable__control sk-hidden--visually\" id=\"sk-estimator-id-1\" type=\"checkbox\" checked><label for=\"sk-estimator-id-1\" class=\"sk-toggleable__label sk-toggleable__label-arrow\">RandomForestRegressor</label><div class=\"sk-toggleable__content\"><pre>RandomForestRegressor(random_state=42)</pre></div></div></div></div></div>"
      ],
      "text/plain": [
       "RandomForestRegressor(random_state=42)"
      ]
     },
     "execution_count": 17,
     "metadata": {},
     "output_type": "execute_result"
    }
   ],
   "source": [
    "rf.fit(X_train_scaled, y_train)"
   ]
  },
  {
   "cell_type": "code",
   "execution_count": 18,
   "metadata": {},
   "outputs": [],
   "source": [
    "preds = rf.predict(X_test_scaled)"
   ]
  },
  {
   "cell_type": "code",
   "execution_count": 19,
   "metadata": {},
   "outputs": [],
   "source": [
    "errors = abs(preds - y_test)"
   ]
  },
  {
   "cell_type": "code",
   "execution_count": 20,
   "metadata": {},
   "outputs": [
    {
     "name": "stdout",
     "output_type": "stream",
     "text": [
      "MAE:  72478077.2681441\n"
     ]
    }
   ],
   "source": [
    "print('MAE: ', np.mean(errors))"
   ]
  },
  {
   "cell_type": "code",
   "execution_count": 21,
   "metadata": {},
   "outputs": [
    {
     "name": "stdout",
     "output_type": "stream",
     "text": [
      "RMSE: 117669624.510087\n"
     ]
    }
   ],
   "source": [
    "rmse = np.sqrt(mean_squared_error(y_test, preds))\n",
    "print(\"RMSE: %f\" % (rmse))"
   ]
  },
  {
   "cell_type": "code",
   "execution_count": 22,
   "metadata": {},
   "outputs": [
    {
     "name": "stdout",
     "output_type": "stream",
     "text": [
      "R2:  0.5918611369634179\n"
     ]
    }
   ],
   "source": [
    "print('R2: ', r2_score(y_test, preds))"
   ]
  },
  {
   "cell_type": "code",
   "execution_count": 33,
   "metadata": {},
   "outputs": [
    {
     "name": "stderr",
     "output_type": "stream",
     "text": [
      "C:\\Users\\mcastellanosmonte\\Downloads\\Anaconda3\\envs\\learn-env\\lib\\site-packages\\sklearn\\model_selection\\_validation.py:425: FitFailedWarning: \n",
      "540 fits failed out of a total of 1620.\n",
      "The score on these train-test partitions for these parameters will be set to nan.\n",
      "If these failures are not expected, you can try to debug them by setting error_score='raise'.\n",
      "\n",
      "Below are more details about the failures:\n",
      "--------------------------------------------------------------------------------\n",
      "540 fits failed with the following error:\n",
      "Traceback (most recent call last):\n",
      "  File \"C:\\Users\\mcastellanosmonte\\Downloads\\Anaconda3\\envs\\learn-env\\lib\\site-packages\\sklearn\\model_selection\\_validation.py\", line 729, in _fit_and_score\n",
      "    estimator.fit(X_train, y_train, **fit_params)\n",
      "  File \"C:\\Users\\mcastellanosmonte\\Downloads\\Anaconda3\\envs\\learn-env\\lib\\site-packages\\sklearn\\base.py\", line 1145, in wrapper\n",
      "    estimator._validate_params()\n",
      "  File \"C:\\Users\\mcastellanosmonte\\Downloads\\Anaconda3\\envs\\learn-env\\lib\\site-packages\\sklearn\\base.py\", line 638, in _validate_params\n",
      "    validate_parameter_constraints(\n",
      "  File \"C:\\Users\\mcastellanosmonte\\Downloads\\Anaconda3\\envs\\learn-env\\lib\\site-packages\\sklearn\\utils\\_param_validation.py\", line 96, in validate_parameter_constraints\n",
      "    raise InvalidParameterError(\n",
      "sklearn.utils._param_validation.InvalidParameterError: The 'max_features' parameter of RandomForestRegressor must be an int in the range [1, inf), a float in the range (0.0, 1.0], a str among {'sqrt', 'log2'} or None. Got 'auto' instead.\n",
      "\n",
      "  warnings.warn(some_fits_failed_message, FitFailedWarning)\n",
      "C:\\Users\\mcastellanosmonte\\Downloads\\Anaconda3\\envs\\learn-env\\lib\\site-packages\\sklearn\\model_selection\\_search.py:979: UserWarning: One or more of the test scores are non-finite: [            nan             nan             nan             nan\n",
      "             nan             nan             nan             nan\n",
      "             nan             nan             nan             nan\n",
      "             nan             nan             nan             nan\n",
      "             nan             nan             nan             nan\n",
      "             nan             nan             nan             nan\n",
      "             nan             nan             nan -1.69745036e+16\n",
      " -1.68371062e+16 -1.66484783e+16 -1.65949496e+16 -1.67702124e+16\n",
      " -1.67532156e+16 -1.71476372e+16 -1.70029626e+16 -1.69602246e+16\n",
      " -1.72257720e+16 -1.70512585e+16 -1.69129660e+16 -1.69537986e+16\n",
      " -1.69457066e+16 -1.70138121e+16 -1.77154372e+16 -1.74827693e+16\n",
      " -1.74137677e+16 -1.81323749e+16 -1.79588201e+16 -1.80586535e+16\n",
      " -1.81323749e+16 -1.79588201e+16 -1.80586535e+16 -1.81516337e+16\n",
      " -1.81884177e+16 -1.80388087e+16 -1.67089616e+16 -1.69506958e+16\n",
      " -1.71145906e+16 -1.70429890e+16 -1.69811001e+16 -1.68566640e+16\n",
      " -1.69223775e+16 -1.71836896e+16 -1.70609071e+16 -1.76433658e+16\n",
      " -1.76093320e+16 -1.75982294e+16 -1.75285497e+16 -1.75994699e+16\n",
      " -1.76061700e+16 -1.76164389e+16 -1.76948456e+16 -1.77796329e+16\n",
      " -1.85488245e+16 -1.87527192e+16 -1.88658295e+16 -1.85488245e+16\n",
      " -1.87527192e+16 -1.88658295e+16 -1.85767379e+16 -1.87396944e+16\n",
      " -1.88099631e+16             nan             nan             nan\n",
      "             nan             nan             nan             nan\n",
      "             nan             nan             nan             nan\n",
      "             nan             nan             nan             nan\n",
      "             nan             nan             nan             nan\n",
      "             nan             nan             nan             nan\n",
      "             nan             nan             nan             nan\n",
      " -1.69134189e+16 -1.72291149e+16 -1.70625142e+16 -1.70327274e+16\n",
      " -1.70098534e+16 -1.69811432e+16 -1.73233134e+16 -1.72754542e+16\n",
      " -1.71028021e+16 -1.77098319e+16 -1.76466174e+16 -1.74433076e+16\n",
      " -1.73743573e+16 -1.73662808e+16 -1.73708045e+16 -1.77214204e+16\n",
      " -1.76782864e+16 -1.75472282e+16 -1.80565825e+16 -1.80326138e+16\n",
      " -1.80502623e+16 -1.80565825e+16 -1.80326138e+16 -1.80502623e+16\n",
      " -1.82617352e+16 -1.83314087e+16 -1.82845890e+16 -1.73596303e+16\n",
      " -1.74425541e+16 -1.74459621e+16 -1.70688860e+16 -1.71965937e+16\n",
      " -1.72867416e+16 -1.68927407e+16 -1.72321140e+16 -1.74842266e+16\n",
      " -1.82119496e+16 -1.79516038e+16 -1.80961325e+16 -1.82081770e+16\n",
      " -1.80877515e+16 -1.80160959e+16 -1.79260304e+16 -1.80468450e+16\n",
      " -1.82136028e+16 -1.88768414e+16 -1.90598270e+16 -1.91027810e+16\n",
      " -1.88768414e+16 -1.90598270e+16 -1.91027810e+16 -1.92035292e+16\n",
      " -1.91977441e+16 -1.92263141e+16             nan             nan\n",
      "             nan             nan             nan             nan\n",
      "             nan             nan             nan             nan\n",
      "             nan             nan             nan             nan\n",
      "             nan             nan             nan             nan\n",
      "             nan             nan             nan             nan\n",
      "             nan             nan             nan             nan\n",
      "             nan -1.73778556e+16 -1.72491021e+16 -1.70781591e+16\n",
      " -1.68749655e+16 -1.68286272e+16 -1.66530944e+16 -1.68366917e+16\n",
      " -1.68745754e+16 -1.67854481e+16 -1.71410677e+16 -1.71163233e+16\n",
      " -1.69161199e+16 -1.72620968e+16 -1.72949172e+16 -1.71506798e+16\n",
      " -1.77115606e+16 -1.75069102e+16 -1.74098669e+16 -1.81388181e+16\n",
      " -1.79934266e+16 -1.80629242e+16 -1.81388181e+16 -1.79934266e+16\n",
      " -1.80629242e+16 -1.81078610e+16 -1.81339533e+16 -1.80390395e+16\n",
      " -1.72291709e+16 -1.69369064e+16 -1.68386626e+16 -1.67526503e+16\n",
      " -1.68223136e+16 -1.67671454e+16 -1.71043663e+16 -1.71141713e+16\n",
      " -1.70219099e+16 -1.76631961e+16 -1.77213898e+16 -1.76997217e+16\n",
      " -1.73636039e+16 -1.74133405e+16 -1.76027016e+16 -1.76005563e+16\n",
      " -1.77976210e+16 -1.77925625e+16 -1.86735851e+16 -1.88405349e+16\n",
      " -1.89047214e+16 -1.86735851e+16 -1.88405349e+16 -1.89047214e+16\n",
      " -1.84033390e+16 -1.86584570e+16 -1.88234123e+16             nan\n",
      "             nan             nan             nan             nan\n",
      "             nan             nan             nan             nan\n",
      "             nan             nan             nan             nan\n",
      "             nan             nan             nan             nan\n",
      "             nan             nan             nan             nan\n",
      "             nan             nan             nan             nan\n",
      "             nan             nan -1.69891275e+16 -1.68545556e+16\n",
      " -1.67251736e+16 -1.66264030e+16 -1.67655539e+16 -1.67358262e+16\n",
      " -1.71431121e+16 -1.70011842e+16 -1.69595339e+16 -1.72257720e+16\n",
      " -1.70512585e+16 -1.69129660e+16 -1.69537986e+16 -1.69551610e+16\n",
      " -1.70203987e+16 -1.77154372e+16 -1.74827693e+16 -1.74137677e+16\n",
      " -1.81323749e+16 -1.79588201e+16 -1.80586535e+16 -1.81323749e+16\n",
      " -1.79588201e+16 -1.80586535e+16 -1.81516337e+16 -1.81884177e+16\n",
      " -1.80388087e+16 -1.68388784e+16 -1.69676988e+16 -1.70954565e+16\n",
      " -1.70143125e+16 -1.70173558e+16 -1.68743447e+16 -1.69850348e+16\n",
      " -1.72068148e+16 -1.70507760e+16 -1.75877320e+16 -1.75852930e+16\n",
      " -1.75806267e+16 -1.75343100e+16 -1.76028699e+16 -1.76081163e+16\n",
      " -1.76164389e+16 -1.76956409e+16 -1.77800823e+16 -1.85488245e+16\n",
      " -1.87527192e+16 -1.88658295e+16 -1.85488245e+16 -1.87527192e+16\n",
      " -1.88658295e+16 -1.85767379e+16 -1.87396944e+16 -1.88099631e+16]\n",
      "  warnings.warn(\n"
     ]
    },
    {
     "name": "stdout",
     "output_type": "stream",
     "text": [
      "{'max_depth': None, 'max_features': 'sqrt', 'min_samples_leaf': 1, 'min_samples_split': 5, 'n_estimators': 50}\n"
     ]
    }
   ],
   "source": [
    "# Define the parameter grid\n",
    "param_grid = {\n",
    "    'n_estimators': [50, 100, 200],\n",
    "    'max_features': ['auto', 'sqrt', 'log2'],\n",
    "    'max_depth': [None, 10, 20, 30],\n",
    "    'min_samples_split': [2, 5, 10],\n",
    "    'min_samples_leaf': [1, 2, 4]\n",
    "}\n",
    "\n",
    "# Initialize the grid search\n",
    "grid_search = GridSearchCV(estimator=rf, param_grid=param_grid, cv=5, scoring='neg_mean_squared_error')\n",
    "\n",
    "# Fit the grid search to the data\n",
    "grid_search.fit(X_train_scaled, y_train)\n",
    "\n",
    "# Get the best parameters\n",
    "best_params = grid_search.best_params_\n",
    "\n",
    "print(best_params)"
   ]
  },
  {
   "cell_type": "code",
   "execution_count": 34,
   "metadata": {},
   "outputs": [
    {
     "name": "stdout",
     "output_type": "stream",
     "text": [
      "RMSE: 112514212.509732\n",
      "R2:  0.6268409447289107\n"
     ]
    }
   ],
   "source": [
    "# Building another Random Forest with the best parameters\n",
    "rf2 = RandomForestRegressor(n_estimators=50, max_depth=None, max_features='sqrt', min_samples_leaf=1,\n",
    "                            min_samples_split=5, random_state=42)\n",
    "rf2.fit(X_train_scaled, y_train)\n",
    "\n",
    "best_rf = grid_search.best_estimator_\n",
    "preds2 = best_rf.predict(X_test_scaled)\n",
    "\n",
    "rmse2 = np.sqrt(mean_squared_error(y_test, preds2))\n",
    "print(\"RMSE: %f\" % (rmse2))\n",
    "\n",
    "print('R2: ', r2_score(y_test, preds2))"
   ]
  },
  {
   "cell_type": "code",
   "execution_count": 35,
   "metadata": {},
   "outputs": [
    {
     "name": "stdout",
     "output_type": "stream",
     "text": [
      "1395309583\n"
     ]
    }
   ],
   "source": [
    "range_target = y_test.max() - y_test.min()\n",
    "print(range_target)"
   ]
  },
  {
   "cell_type": "code",
   "execution_count": 36,
   "metadata": {},
   "outputs": [
    {
     "data": {
      "image/png": "[encoded data removed]",
      "text/plain": [
       "<Figure size 720x432 with 1 Axes>"
      ]
     },
     "metadata": {
      "needs_background": "light"
     },
     "output_type": "display_data"
    }
   ],
   "source": [
    "import matplotlib.pyplot as plt\n",
    "\n",
    "plt.figure(figsize=(10, 6))\n",
    "plt.scatter(y_test, preds2, alpha=0.6, edgecolor='k', label='Actual vs Predicted Values')\n",
    "plt.xlabel('Actual Values', fontsize=14)\n",
    "plt.ylabel('Predicted Values', fontsize=14)\n",
    "plt.title('Random Forest Regressor: Actual vs Predicted Values', fontsize=16)\n",
    "\n",
    "plt.plot([min(y_test.min(), preds2.min()), max(y_test.max(), preds2.max())],\n",
    "         [min(y_test.min(), preds2.min()), max(y_test.max(), preds2.max())],\n",
    "         color='red', linestyle='--', linewidth=2, label='Perfect Correlation')\n",
    "plt.legend()\n",
    "plt.show()"
   ]
  },
  {
   "cell_type": "markdown",
   "metadata": {},
   "source": [
    "### Scatter plot\n",
    "The points are clustered at the bottom left, indicating a large number of low values.\n",
    "\n",
    "There is a clear deviation from the perfect correlation line, particularly for larger values where predictions do not match well with the actual values"
   ]
  },
  {
   "cell_type": "code",
   "execution_count": 37,
   "metadata": {},
   "outputs": [
    {
     "data": {
      "image/png": "[encoded data removed]",
      "text/plain": [
       "<Figure size 720x432 with 1 Axes>"
      ]
     },
     "metadata": {
      "needs_background": "light"
     },
     "output_type": "display_data"
    }
   ],
   "source": [
    "residuals = y_test - preds2\n",
    "\n",
    "plt.figure(figsize=(10, 6))\n",
    "plt.scatter(preds2, residuals, alpha=0.6, edgecolor='k')\n",
    "plt.axhline(0, color='red', linestyle='--', linewidth=2)\n",
    "\n",
    "plt.xlabel('Predicted Values', fontsize=14)\n",
    "plt.ylabel('Residuals', fontsize=14)\n",
    "plt.title('Residuals of Predictions', fontsize=16)\n",
    "\n",
    "plt.show()"
   ]
  },
  {
   "cell_type": "markdown",
   "metadata": {},
   "source": [
    "### Residuals\n",
    "The residuals are not uniformly scattered around zero, particularly for higher predicted values.\n",
    "\n",
    "There is a concentration of residuals around zero for lower predicted values, but as predicted values increase, the residuals spread out more, indicating increasing error."
   ]
  },
  {
   "cell_type": "code",
   "execution_count": 38,
   "metadata": {},
   "outputs": [
    {
     "data": {
      "image/png": "[encoded data removed]",
      "text/plain": [
       "<Figure size 720x432 with 1 Axes>"
      ]
     },
     "metadata": {
      "needs_background": "light"
     },
     "output_type": "display_data"
    }
   ],
   "source": [
    "plt.figure(figsize=(10, 6))\n",
    "plt.hist(y_test, bins=30, alpha=0.7, label='Actual Values')\n",
    "plt.hist(preds2, bins=30, alpha=0.7, label ='Predicted Values')\n",
    "plt.xlabel('Values', fontsize=14)\n",
    "plt.ylabel('Frequency', fontsize=14)\n",
    "plt.title('Distribution of Actual and Predicted Values', fontsize=16)\n",
    "plt.legend()\n",
    "plt.show()"
   ]
  },
  {
   "cell_type": "markdown",
   "metadata": {},
   "source": [
    "### Histogram\n",
    "There is a heavy concentration of values near zero.\n",
    "\n",
    "The predicted values (orange) tend to undersetimate compared to the actual values (blue)"
   ]
  },
  {
   "cell_type": "code",
   "execution_count": 39,
   "metadata": {},
   "outputs": [
    {
     "name": "stdout",
     "output_type": "stream",
     "text": [
      "MAE: 70795154.83051312\n",
      "MSE: 1.2659448016685136e+16\n",
      "R2: 0.6268409447289107\n"
     ]
    }
   ],
   "source": [
    "mae = mean_absolute_error(y_test, preds2)\n",
    "mse = mean_squared_error(y_test, preds2)\n",
    "r2 = r2_score(y_test, preds2)\n",
    "\n",
    "print(f\"MAE: {mae}\") # on average the model's prediction are off by about 70.79 million\n",
    "print(f\"MSE: {mse}\") # large errors in the predictions\n",
    "print(f\"R2: {r2}\") # about 62.7 % of the variance in the target variable is explained by the model"
   ]
  },
  {
   "cell_type": "code",
   "execution_count": null,
   "metadata": {},
   "outputs": [],
   "source": []
  }
 ],
 "metadata": {
  "kernelspec": {
   "display_name": "Python (learn-env)",
   "language": "python",
   "name": "learn-env"
  },
  "language_info": {
   "codemirror_mode": {
    "name": "ipython",
    "version": 3
   },
   "file_extension": ".py",
   "mimetype": "text/x-python",
   "name": "python",
   "nbconvert_exporter": "python",
   "pygments_lexer": "ipython3",
   "version": "3.8.5"
  }
 },
 "nbformat": 4,
 "nbformat_minor": 4
}
